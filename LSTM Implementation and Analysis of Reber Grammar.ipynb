{
 "cells": [
  {
   "cell_type": "code",
   "execution_count": 1,
   "metadata": {},
   "outputs": [],
   "source": [
    "# Reber Grammar Implementation using Keras "
   ]
  },
  {
   "cell_type": "code",
   "execution_count": 2,
   "metadata": {},
   "outputs": [],
   "source": [
    "# Reber Grammar String Generator Class"
   ]
  },
  {
   "cell_type": "code",
   "execution_count": 3,
   "metadata": {},
   "outputs": [],
   "source": [
    "import random as rnd\n",
    "\n",
    "class ReberGrammarLexicon(object):\n",
    "\n",
    "    lexicon = set() #contain Reber words\n",
    "    graph = [ [(1,'T'), (2,'P')], \\\n",
    "            [(1, 'S'), (3, 'X')], \\\n",
    "            [(2,'T') ,(4, 'V')],  \\\n",
    "            [(2, 'X'), (5,'S')],           \\\n",
    "            [(3, 'P'),(5, 'V')],  \\\n",
    "            [(6,'E')] ]  #store the graph\n",
    "\n",
    "    def __init__(self, num, maxSize = 1000): #fill Lexicon with num words\n",
    "\n",
    "        self.maxSize = maxSize\n",
    "\n",
    "        if maxSize < 5:\n",
    "            raise NameError('maxSize too small, require maxSize > 4') \n",
    "\n",
    "        while len(self.lexicon) < num:\n",
    "\n",
    "            word = self.generateWord()\n",
    "            if word != None:\n",
    "                self.lexicon.add(word)\n",
    "\n",
    "    def generateWord(self): #generate one word\n",
    "\n",
    "        c = 2\n",
    "        currentEdge = 0\n",
    "        word = 'B'\n",
    "\n",
    "        while c <= self.maxSize:\n",
    "\n",
    "            inc = rnd.randint(0,len(self.graph[currentEdge])-1)\n",
    "            nextEdge = self.graph[currentEdge][inc][0]\n",
    "            word += self.graph[currentEdge][inc][1]\n",
    "            currentEdge = nextEdge\n",
    "            if currentEdge == 6 :\n",
    "                break\n",
    "            c+=1\n",
    "\n",
    "        if c > self.maxSize :\n",
    "            return None\n",
    "\n",
    "        return word"
   ]
  },
  {
   "cell_type": "code",
   "execution_count": 4,
   "metadata": {},
   "outputs": [],
   "source": [
    "import numpy as np"
   ]
  },
  {
   "cell_type": "code",
   "execution_count": 5,
   "metadata": {},
   "outputs": [],
   "source": [
    "maxsize = 20\n",
    "inputdim = 7\n",
    "outputdim = 7\n",
    "hiddendim = 3"
   ]
  },
  {
   "cell_type": "code",
   "execution_count": 6,
   "metadata": {},
   "outputs": [],
   "source": [
    "chars='BEPSTVX'"
   ]
  },
  {
   "cell_type": "code",
   "execution_count": 7,
   "metadata": {},
   "outputs": [],
   "source": [
    "# One-hot encoding generated reber strings "
   ]
  },
  {
   "cell_type": "code",
   "execution_count": 8,
   "metadata": {},
   "outputs": [],
   "source": [
    "from sklearn.preprocessing import LabelEncoder\n",
    "from sklearn.preprocessing import OneHotEncoder"
   ]
  },
  {
   "cell_type": "code",
   "execution_count": 9,
   "metadata": {},
   "outputs": [],
   "source": [
    "data = ['B', 'E', 'P', 'S', 'T', 'V', 'X']\n",
    "values = np.array(data)\n",
    "\n",
    "# integer encode\n",
    "label_encoder = LabelEncoder()\n",
    "integer_encoded = label_encoder.fit_transform(values)\n",
    "\n",
    "# binary encode\n",
    "onehot_encoder = OneHotEncoder(sparse=False)\n",
    "integer_encoded = integer_encoded.reshape(len(integer_encoded), 1)\n",
    "onehot_encoded = onehot_encoder.fit(integer_encoded)"
   ]
  },
  {
   "cell_type": "code",
   "execution_count": 10,
   "metadata": {},
   "outputs": [],
   "source": [
    "def func(word,start=0):\n",
    "    word = np.array(list(word[start:]))\n",
    "    encoded = label_encoder.transform(word)\n",
    "    return onehot_encoded.transform(encoded.reshape(-1,1))    "
   ]
  },
  {
   "cell_type": "code",
   "execution_count": 11,
   "metadata": {},
   "outputs": [],
   "source": [
    "# Padding each one-hot encoded input string to the maximum length"
   ]
  },
  {
   "cell_type": "code",
   "execution_count": 12,
   "metadata": {},
   "outputs": [
    {
     "name": "stderr",
     "output_type": "stream",
     "text": [
      "/Users/gokul/opt/anaconda3/lib/python3.7/site-packages/tensorflow/python/framework/dtypes.py:526: FutureWarning: Passing (type, 1) or '1type' as a synonym of type is deprecated; in a future version of numpy, it will be understood as (type, (1,)) / '(1,)type'.\n",
      "  _np_qint8 = np.dtype([(\"qint8\", np.int8, 1)])\n",
      "/Users/gokul/opt/anaconda3/lib/python3.7/site-packages/tensorflow/python/framework/dtypes.py:527: FutureWarning: Passing (type, 1) or '1type' as a synonym of type is deprecated; in a future version of numpy, it will be understood as (type, (1,)) / '(1,)type'.\n",
      "  _np_quint8 = np.dtype([(\"quint8\", np.uint8, 1)])\n",
      "/Users/gokul/opt/anaconda3/lib/python3.7/site-packages/tensorflow/python/framework/dtypes.py:528: FutureWarning: Passing (type, 1) or '1type' as a synonym of type is deprecated; in a future version of numpy, it will be understood as (type, (1,)) / '(1,)type'.\n",
      "  _np_qint16 = np.dtype([(\"qint16\", np.int16, 1)])\n",
      "/Users/gokul/opt/anaconda3/lib/python3.7/site-packages/tensorflow/python/framework/dtypes.py:529: FutureWarning: Passing (type, 1) or '1type' as a synonym of type is deprecated; in a future version of numpy, it will be understood as (type, (1,)) / '(1,)type'.\n",
      "  _np_quint16 = np.dtype([(\"quint16\", np.uint16, 1)])\n",
      "/Users/gokul/opt/anaconda3/lib/python3.7/site-packages/tensorflow/python/framework/dtypes.py:530: FutureWarning: Passing (type, 1) or '1type' as a synonym of type is deprecated; in a future version of numpy, it will be understood as (type, (1,)) / '(1,)type'.\n",
      "  _np_qint32 = np.dtype([(\"qint32\", np.int32, 1)])\n",
      "/Users/gokul/opt/anaconda3/lib/python3.7/site-packages/tensorflow/python/framework/dtypes.py:535: FutureWarning: Passing (type, 1) or '1type' as a synonym of type is deprecated; in a future version of numpy, it will be understood as (type, (1,)) / '(1,)type'.\n",
      "  np_resource = np.dtype([(\"resource\", np.ubyte, 1)])\n"
     ]
    }
   ],
   "source": [
    "from tensorflow.keras.preprocessing.sequence import pad_sequences"
   ]
  },
  {
   "cell_type": "code",
   "execution_count": 13,
   "metadata": {},
   "outputs": [],
   "source": [
    "def pad(z):\n",
    "    z = np.expand_dims(z,axis =0)\n",
    "    padded = pad_sequences(z,maxlen=20,padding='post',value=[0.,0.,0.,0.,0.,0.,0.])\n",
    "    return padded[0]    "
   ]
  },
  {
   "cell_type": "code",
   "execution_count": 14,
   "metadata": {},
   "outputs": [],
   "source": [
    "def preprocessing(dictionary,start=0):\n",
    "    length = len(dictionary)\n",
    "    result = []\n",
    "    \n",
    "    for word in dictionary:\n",
    "        result.extend(pad(func(word,start)))\n",
    "        \n",
    "    return np.array(result).reshape(length,maxsize,7)       "
   ]
  },
  {
   "cell_type": "code",
   "execution_count": 15,
   "metadata": {},
   "outputs": [],
   "source": [
    "generator = ReberGrammarLexicon(2400,maxSize=20)"
   ]
  },
  {
   "cell_type": "code",
   "execution_count": 16,
   "metadata": {},
   "outputs": [
    {
     "data": {
      "text/plain": [
       "{'BTSSSSSSSSSSSSSSXSE',\n",
       " 'BTSXXVPXTTVPXTTTVPSE',\n",
       " 'BPVPXTVPXVPXTTTTTVVE',\n",
       " 'BTXXTVPXVPXVPXTTVPSE',\n",
       " 'BTSSSSSXXTTVPXVVE',\n",
       " 'BTSXXTTVPXVVE',\n",
       " 'BPTVPXTVPXTTVPXTTVVE',\n",
       " 'BPTVPXTTTTTTTTTTVVE',\n",
       " 'BTSSSXXTTTVPXTTVPSE',\n",
       " 'BTSSSXXTVPXTTVPXVVE',\n",
       " 'BTSSSXXTTTTTVPXTVVE',\n",
       " 'BPVPXTTVPXTVPXVVE',\n",
       " 'BTSXXTVPXTTTVPXTVPSE',\n",
       " 'BTXXVPXTTVPXVPXTTVVE',\n",
       " 'BPTTTTVPXTVPXVVE',\n",
       " 'BTSSXXVPXVVE',\n",
       " 'BTSSXXTVPXVPXVPSE',\n",
       " 'BTSSXXTTTTTTVPXTVVE',\n",
       " 'BTSXXTTTVPXTTTTTTVVE',\n",
       " 'BTXXTTTVPXTVPXTTVPSE',\n",
       " 'BTSSSSSXXTTTVPXTVVE',\n",
       " 'BTSSSXXVPXTTTTTTVPSE',\n",
       " 'BTSXXTTTVPXTVVE',\n",
       " 'BTSSXXTVPXVPXTTVVE',\n",
       " 'BTXXVPXTVPXTTTTTVPSE',\n",
       " 'BTSSXXTTTTVPXVVE',\n",
       " 'BPTTVPXVVE',\n",
       " 'BTSXXTVPXTTVPXTTTVVE',\n",
       " 'BTXXTTVPXTVPXVVE',\n",
       " 'BPTTTTTTTTTTVPXTVVE',\n",
       " 'BPTTTTTTTTTVPXTTTVVE',\n",
       " 'BTXXTVPXTTVPXTVPXVVE',\n",
       " 'BTSXSE',\n",
       " 'BTXXTVPXVPXTTTVVE',\n",
       " 'BPTTTVPXVPXTTVPXTVVE',\n",
       " 'BPTVPXTTVPXVPXTTVVE',\n",
       " 'BTSXXTTTTTTTTTTVPSE',\n",
       " 'BPVPXVPXTVPXTTTVVE',\n",
       " 'BTSSSXXTVPXTTVVE',\n",
       " 'BTSXXVPXTVPXTTTVVE',\n",
       " 'BPTTTVPXTVPXTTTTVVE',\n",
       " 'BTXXVPXTTTVPSE',\n",
       " 'BPTVPXVPXTTVPXTTTVVE',\n",
       " 'BTSXXVPXVPXTTVPXVPSE',\n",
       " 'BPTTVPXTVPXTTTVPSE',\n",
       " 'BTSSSSSSSSXXTTTTVPSE',\n",
       " 'BPTTTTTVPXTTTTTTTVVE',\n",
       " 'BPTVPXVPXTTVPXVVE',\n",
       " 'BPTTTTTTVPSE',\n",
       " 'BTSSSXXVVE',\n",
       " 'BTXXVPXVPXVPXTTTTVVE',\n",
       " 'BTSXXTTVPXVPXVPXTVVE',\n",
       " 'BPTTTTVPXTVPXTVVE',\n",
       " 'BTXXVPXVPSE',\n",
       " 'BTSXXTTTTTTTTVPXVVE',\n",
       " 'BPVPXTTTTVPXVPXTVVE',\n",
       " 'BTSXXVPXTTTVPXVVE',\n",
       " 'BTSXXTTTTVPXVPXTTVVE',\n",
       " 'BTSSXXTTTTTTTVPXTVVE',\n",
       " 'BTSXXTTTTVPXVPXTVPSE',\n",
       " 'BTSSSSSSXXTTTVVE',\n",
       " 'BPVPXTVPXVVE',\n",
       " 'BTXXVPXTVPXTTVPSE',\n",
       " 'BPVPXVPXTTVPXTVPSE',\n",
       " 'BPTTVPXTTTVPXTTTVPSE',\n",
       " 'BPVPXTTTTTTTTTVVE',\n",
       " 'BTSSSXXTTTTTTVPXVPSE',\n",
       " 'BTSSXXTTTTTVPXVVE',\n",
       " 'BTXXTTTTVPXTTTTVVE',\n",
       " 'BTSSSSXXTVPXVVE',\n",
       " 'BTSSSSSSSXSE',\n",
       " 'BPVPXTTTVPXTTTTVVE',\n",
       " 'BPTTVPXTTVPXTTVPXVVE',\n",
       " 'BTSXXTTTTVPXTTTTTVVE',\n",
       " 'BTSSXXVPXTTTVPXTTVVE',\n",
       " 'BTXXTTTTTTTTTTTTTVVE',\n",
       " 'BTXXVPXTVPXTVPXVVE',\n",
       " 'BPVPXVPXTTTTTTTVPSE',\n",
       " 'BTXXTTVPXVPXVPSE',\n",
       " 'BTXXTTTTTTTTTVPXVVE',\n",
       " 'BPTTVPXTTTVPXTTVVE',\n",
       " 'BPVPXTTTVPXTTTTVPSE',\n",
       " 'BPTTTTVPXTTTTVVE',\n",
       " 'BTXXTVPXTVPXTTTVPSE',\n",
       " 'BTSXXTVPXTTVPSE',\n",
       " 'BPTVPXVPXTTVPXTTVVE',\n",
       " 'BTSSSXXTVPXTTTTVVE',\n",
       " 'BTSSSSSSXXVPXTTTTVVE',\n",
       " 'BTSSXXTTTTVPXTTTTVVE',\n",
       " 'BTXXTTVPXVPXTTTVVE',\n",
       " 'BPTTTTVPXTVPXTVPXVVE',\n",
       " 'BPTVPXTVPXTVPXVVE',\n",
       " 'BTSSSXXTVPXTVPXTTVVE',\n",
       " 'BPTTTTTTTVPXTVVE',\n",
       " 'BPTVPXTTTTVPXTVPSE',\n",
       " 'BTSSSSSXXVPXTVPXVPSE',\n",
       " 'BTXXVPXVPXTTTTVPSE',\n",
       " 'BTXXTTVPXTVPXVPSE',\n",
       " 'BPTTVPXVPXVPXTTTVVE',\n",
       " 'BPTTTVPSE',\n",
       " 'BPTVPXVPXVPXTTVPXVVE',\n",
       " 'BTSSSSSXXTTTTVPXVVE',\n",
       " 'BTSSSSSSSSSSXSE',\n",
       " 'BTSSSXXTVPXVPXVPSE',\n",
       " 'BPTTTVPXTTVPXTTTVPSE',\n",
       " 'BTXXTTTTTVVE',\n",
       " 'BTSSXXTTVPXTVPXTTVVE',\n",
       " 'BTSXXVPXTTVPXVPXVPSE',\n",
       " 'BTSXXTTTTVPXVPXVPSE',\n",
       " 'BTSXXTTVPXTTVPXTTVVE',\n",
       " 'BTSSSSSSXXTVPXVPSE',\n",
       " 'BTXXTTTTTVPXTTTTVPSE',\n",
       " 'BPTVPXTTVPXTTTTTTVVE',\n",
       " 'BPVPXTTTVPXTVPXTVPSE',\n",
       " 'BPTVPXTTVPXVVE',\n",
       " 'BTXXVVE',\n",
       " 'BPTTVPXVPXTTTVPXVVE',\n",
       " 'BTSSXXTTVPXTTVPXVVE',\n",
       " 'BTSSSSSSSXXTTTTTTVVE',\n",
       " 'BTSSSSSSXXTTTTTVPSE',\n",
       " 'BPVPXTVPXTTTVPXTTVVE',\n",
       " 'BTSXXTTTTTTTTVVE',\n",
       " 'BPTTTTTVPXTTTVPXVVE',\n",
       " 'BPTTVPXTVPXTTVPXVVE',\n",
       " 'BTXXVPXTTTTVPXVVE',\n",
       " 'BPTVPXTVPXTVPXTVPSE',\n",
       " 'BPTTVPXTVPXTVPSE',\n",
       " 'BTSSXXTVPXVPXVPXVPSE',\n",
       " 'BPVPXVPXTVPXVPSE',\n",
       " 'BPTTTTTTTTVPXTTTTVVE',\n",
       " 'BTXXTVPXTVPSE',\n",
       " 'BTSSSXXTTTVPXTTTVVE',\n",
       " 'BPVPXTTVPXTTTTVPXVVE',\n",
       " 'BTSSSSSSXXTVPXVVE',\n",
       " 'BPTTVPXTTVPXTVPXVPSE',\n",
       " 'BTXXVPXTTTTTVPSE',\n",
       " 'BTSSSSXXVPXVPXTTVVE',\n",
       " 'BTXXTVPXTTTTTVPXTVVE',\n",
       " 'BPTTTVPXVPXTVPXTVPSE',\n",
       " 'BTXXVPXVPXTTTTTTVVE',\n",
       " 'BTSSSSSSSSXXVPXTVPSE',\n",
       " 'BTSSSSSSXXTTTTVPXVVE',\n",
       " 'BTSSSXXVPXVPXTTTVVE',\n",
       " 'BTXXTTVPXVPXTTTTVPSE',\n",
       " 'BTXXTTVPXVPXTTVVE',\n",
       " 'BPTTTTVPXTTTVPSE',\n",
       " 'BPTVPXTTTVPXVPSE',\n",
       " 'BPTTTTVPXTVPXVPXTVVE',\n",
       " 'BTSSSSSSXXVPXTTTVVE',\n",
       " 'BPVPXVPXVPXTVPXTVPSE',\n",
       " 'BPTTTTTTTVPXVPXTVVE',\n",
       " 'BPTVPXTVPXTTTVPXVPSE',\n",
       " 'BTSSSXXTTVPXTVPXVVE',\n",
       " 'BTXXTTTTTVPXTTTVVE',\n",
       " 'BTXXTVPXTTTTTTTTVPSE',\n",
       " 'BTSXXTTVPXVPXVPXVVE',\n",
       " 'BPTVPXVPXVPXVPXTVPSE',\n",
       " 'BPVPXTTTTTTVVE',\n",
       " 'BTXXTTTTTTTVPXTVPSE',\n",
       " 'BTSXXTTVPXTVPXVPSE',\n",
       " 'BPVPXTVPXTVPXVPXVVE',\n",
       " 'BTXXTVPXTTVPXVPXVPSE',\n",
       " 'BPTTTTVPXTVPXVPXVPSE',\n",
       " 'BPTTVPXTVPXTVPXTVVE',\n",
       " 'BPTTTTVPSE',\n",
       " 'BTSSSXXTVPXVPXVVE',\n",
       " 'BTSSXXVPXTTVPXTVVE',\n",
       " 'BPVPXTVPXTTVPXTTTVVE',\n",
       " 'BPTTTTTTTTTTVPXVVE',\n",
       " 'BTXXVPXTTTTTTVVE',\n",
       " 'BTSXXTVPXTVPXTVPSE',\n",
       " 'BTSSSSSSSSSSSXSE',\n",
       " 'BTXXTTVPXTVPXTTTTVVE',\n",
       " 'BTSSSSSSSSSSXXVPXVVE',\n",
       " 'BTXXTTTVPXTTTTVPSE',\n",
       " 'BTSSSSSSXXVPXVPXVVE',\n",
       " 'BTXXTVPXTTTVPXTTVVE',\n",
       " 'BTSSSXXTTVPXTTVVE',\n",
       " 'BTSSSSXXTVPXTTTTTVVE',\n",
       " 'BPTTTVPXTTTTTTTTTVVE',\n",
       " 'BTSSXXTVPXTVPXTTVPSE',\n",
       " 'BTSSXXVPXVPXTTVPSE',\n",
       " 'BTSSSSSXXVPXTTTTVPSE',\n",
       " 'BTSXXVPXVPXTVPXTVVE',\n",
       " 'BTSSXXTTVPXTTTTVPSE',\n",
       " 'BTXXVPXVPXTTVPXVPSE',\n",
       " 'BPTVPXVPXTVPXVVE',\n",
       " 'BPTVPXTVPXVVE',\n",
       " 'BPVPXTVPXTTTTVPXVVE',\n",
       " 'BTXXVPXVPXVPXTTTVVE',\n",
       " 'BTXXVPXTVPXTVPXTVVE',\n",
       " 'BTSSSSSXXTTTVVE',\n",
       " 'BTSSXXTTTTTTVPXTVPSE',\n",
       " 'BTSSSSSXXVPXVPXVPSE',\n",
       " 'BPVPXVVE',\n",
       " 'BTSSXXVPXTVPXVPSE',\n",
       " 'BPTVPXTTTVPXTTTTVVE',\n",
       " 'BPTTTVPXVPXTVPXVVE',\n",
       " 'BTSSSSSSSXXVPXTVVE',\n",
       " 'BPTTVPXTTVPXVPSE',\n",
       " 'BTXXTTVPXTTTTVPXTVVE',\n",
       " 'BTXXTTTVPXTVVE',\n",
       " 'BTSSSSSSXXTVPXTTVVE',\n",
       " 'BTSXXTTTVPXVPSE',\n",
       " 'BTXXVPXTTVPXVPXVPSE',\n",
       " 'BPTTTTVPXVPXTTTTVVE',\n",
       " 'BTSSXXTTVPXVVE',\n",
       " 'BTSSSSXXVPXVPXTVVE',\n",
       " 'BTXXVPXTTVPXTTVPSE',\n",
       " 'BTSXXVPXVPXTVVE',\n",
       " 'BTXXVPXTTTVPXVPSE',\n",
       " 'BTSSSXXTTVPXVVE',\n",
       " 'BPTTVPXTTTTTTTTVPSE',\n",
       " 'BTSSSSSSSXXTVVE',\n",
       " 'BPVPXTTVPXTTVPSE',\n",
       " 'BTXXVPXTVPXVPXVPSE',\n",
       " 'BTSSSSSXXTVPXTTVPSE',\n",
       " 'BPTTTTTTVPXTVPSE',\n",
       " 'BTSSSSSSSSSXXTTVVE',\n",
       " 'BPVPXVPXTVPXTTVPSE',\n",
       " 'BTSXXTVPXTTTTVPXVPSE',\n",
       " 'BPVPXTTTTTVVE',\n",
       " 'BTSSXXVPXTTVPXTTVVE',\n",
       " 'BPVPXTTTVPXTTTVPXVVE',\n",
       " 'BTXXTTTTVPXTVPXTVPSE',\n",
       " 'BTXXTTTVPXTTVPXTTVVE',\n",
       " 'BPVPXTTTVPXVPXVPXVVE',\n",
       " 'BPVPXVPXTTVPXTTTVPSE',\n",
       " 'BTXXTTVPXTTTTVPXVVE',\n",
       " 'BTSSSXXTVPXTTVPXVPSE',\n",
       " 'BTSSXXTTTTTVPXTTVVE',\n",
       " 'BTSXXVPXVPXTTTVPSE',\n",
       " 'BPTTTTTTVPXVPXTTVVE',\n",
       " 'BPTVPXTVPXVPXVVE',\n",
       " 'BPTTTTTVPXTTVPXVPSE',\n",
       " 'BTSXXTVPXVPXTVPSE',\n",
       " 'BTSSSSXXTTVPXTTTVVE',\n",
       " 'BPVPXTTVPXVPXVPXTVVE',\n",
       " 'BPVPXTVPXTTTTTTTVVE',\n",
       " 'BPTTTTTVPXTTVVE',\n",
       " 'BTXXTTVPXVPXTTVPSE',\n",
       " 'BTSXXTTVPXTVPSE',\n",
       " 'BTSXXTVPXTTVPXVVE',\n",
       " 'BTSXXTTTVPXTTTVPSE',\n",
       " 'BPTTTTTVPXTTTVPSE',\n",
       " 'BTSSSSXXTVPXVPXTVVE',\n",
       " 'BPTTVPXTTVPXVVE',\n",
       " 'BTXXTTVPXTTTTTVPXVVE',\n",
       " 'BTSXXTTTTTTTTTTVVE',\n",
       " 'BTXXTTVPXTTTTVVE',\n",
       " 'BTXXVPXTVVE',\n",
       " 'BTSXXVPXTVPXVPXTVPSE',\n",
       " 'BTSSSXXVPXTTVPXTVVE',\n",
       " 'BPTVPXVPXTTTVPXTVPSE',\n",
       " 'BTXXTTTTTVPXTVPXVPSE',\n",
       " 'BTXXTVPXTTTTTTVVE',\n",
       " 'BPTTTTVPXTVPXVPXVVE',\n",
       " 'BTSSXXVPXVPXVPXTVPSE',\n",
       " 'BPVPXTVPXVPXTTTVVE',\n",
       " 'BTSXXTVPXTVPXVPXVPSE',\n",
       " 'BTSSSSSSSXXTVPXVPSE',\n",
       " 'BPVPXTVPXTTTVPXTVPSE',\n",
       " 'BTSSSSSXXTTTTTTVPSE',\n",
       " 'BPTVPXVPXTVPXTVVE',\n",
       " 'BTXXTTTVPXTTTTTVPSE',\n",
       " 'BPTTTTTTTTTTVPSE',\n",
       " 'BTXXVPXVPXTVPXVVE',\n",
       " 'BTSSSSXXVPXTTTTVVE',\n",
       " 'BTXXTTTTTTTTVVE',\n",
       " 'BTSSSSSSSXXVVE',\n",
       " 'BTXXTVPXTTVPXTTVVE',\n",
       " 'BTSSSSSSSSSXXTTVPSE',\n",
       " 'BTSXXVPXTTTTVPXVVE',\n",
       " 'BTSSSSSSSSSSSSXXVVE',\n",
       " 'BTXXVPXTVPXVPXVVE',\n",
       " 'BPTVPXTTTTTTVPXVVE',\n",
       " 'BTXXTTTTTTVPXTVVE',\n",
       " 'BTXXTTTTTVPXTVPSE',\n",
       " 'BTSXXVPXTTTVVE',\n",
       " 'BTXXTTTTTTTVPXVPXVVE',\n",
       " 'BPTTTTTTVPXTTTTTVVE',\n",
       " 'BTXXTTTTTTTVPXVVE',\n",
       " 'BPTTTTTTVPXTTTVPSE',\n",
       " 'BTSSSXXTVPXTTVPXTVVE',\n",
       " 'BPTTTTTTTTTTTVPXVVE',\n",
       " 'BTSSXXVPXTTTTTTTVPSE',\n",
       " 'BPTTTTVPXVPXVPXTVPSE',\n",
       " 'BTSSSXXVPXTVPXTVVE',\n",
       " 'BTSSSSXXTTTTTVPXTVVE',\n",
       " 'BPVPXTTTTTVPXTTVVE',\n",
       " 'BTXXVPXTTTVPXTTTVVE',\n",
       " 'BPTVPXTTTTTVPXTTVPSE',\n",
       " 'BTXXVPXTVPXTTVPXTVVE',\n",
       " 'BTSXXVPXTTTTVVE',\n",
       " 'BTXXTVPXVPXVPXTTTVVE',\n",
       " 'BPVPXVPXTTTTVVE',\n",
       " 'BTSSSXXTVVE',\n",
       " 'BTSSSSSXXVPXTTTVVE',\n",
       " 'BTSSSSSXXVPXTTVPSE',\n",
       " 'BPTTTTVPXTVVE',\n",
       " 'BTXXVPXTTTTVPXTVVE',\n",
       " 'BTSXXTTTTTVVE',\n",
       " 'BPVPXVPXTTTTTVPXVPSE',\n",
       " 'BTSSSSSXXTTVPXTTVPSE',\n",
       " 'BTSXXTTTVPXTTVPXVPSE',\n",
       " 'BTSSSSSSSSSXXTVVE',\n",
       " 'BPTTTTTTTTVPXTVPSE',\n",
       " 'BTSSXXTTTTTTTTTTVPSE',\n",
       " 'BPTVPXTVPXTTVPXTVVE',\n",
       " 'BTSXXTTVPXTTTVPXVVE',\n",
       " 'BPTTVPXVPXTTVPSE',\n",
       " 'BPTVPXTTVPXVPXVVE',\n",
       " 'BPTVPXTTTVPXTVPXVPSE',\n",
       " 'BTSSSXXTTTVVE',\n",
       " 'BTSSSSSSSXXTTVPXTVVE',\n",
       " 'BTXXTTVPXVPXVPXTVVE',\n",
       " 'BTXXVPXTVPXVVE',\n",
       " 'BTXXTTVPXVVE',\n",
       " 'BPTTTVPXTVPXTTVVE',\n",
       " 'BTSSSSXXVPXVPXTTTVVE',\n",
       " 'BTSSSSXXTTTTVPXTTVVE',\n",
       " 'BTXXTTVPXTTTVPSE',\n",
       " 'BPTTTVPXVPXTVPXTVVE',\n",
       " 'BTSXXVPXVPXTTTTVVE',\n",
       " 'BTSSXXTTTTTTTTVPSE',\n",
       " 'BTSSSSSSXXTTTTTVVE',\n",
       " 'BTSXXVPXTTTVPXTTTVVE',\n",
       " 'BPTTTVPXTVPXTTVPXVVE',\n",
       " 'BPVPXVPXVPXVPXTTTVVE',\n",
       " 'BTXXVPXTTTTTTTVPSE',\n",
       " 'BPTTTTTVPXVPXTVVE',\n",
       " 'BTSSXXTTVPXVPXTTVPSE',\n",
       " 'BTSXXVPXVPXTTTTTTVVE',\n",
       " 'BPTTVPXVPXTVPXVPSE',\n",
       " 'BTXXTTTTTVPXTVPXVVE',\n",
       " 'BTXXTTTTVVE',\n",
       " 'BTSSSSSSXXTTTVPXTVVE',\n",
       " 'BPVPXTVPXTTTTTTTVPSE',\n",
       " 'BTXXVPXTVPXVPSE',\n",
       " 'BTSXXTTTTTVPXTTTTVVE',\n",
       " 'BPTTTVPXTTTVPXVVE',\n",
       " 'BPTVPXVPXTVPXTVPXVVE',\n",
       " 'BPTTTVPXVPXVPXVPXVVE',\n",
       " 'BTSSXXTTTTTVPSE',\n",
       " 'BTSSSSSSXXTVPXTVPSE',\n",
       " 'BTSSSSXXTTTVPXTTTVVE',\n",
       " 'BTXXVPXTTTTVPXTVPSE',\n",
       " 'BTSSSSXXTTTTVPXVPSE',\n",
       " 'BTXXTTVPXTTVPXTVPSE',\n",
       " 'BPTVPXVPXTVPXTTVVE',\n",
       " 'BTSXXTVPXTVPXTTVVE',\n",
       " 'BPTTTVPXVPXTTVPXVVE',\n",
       " 'BTSSSSSXXVPXTVPSE',\n",
       " 'BTSSXXTTTTVPXTTVVE',\n",
       " 'BPTVPXTTTTTTTTVPSE',\n",
       " 'BPTTTVPXTVPXVPXVPSE',\n",
       " 'BPVPXVPXVPXTTTTTTVVE',\n",
       " 'BTSSXXVPXTVPXVPXTVVE',\n",
       " 'BTSXXVPXVPXVVE',\n",
       " 'BTSSSXXTVPSE',\n",
       " 'BPVPXTTTVPXTTTTTTVVE',\n",
       " 'BTSXXTTTVPXTTTTVPSE',\n",
       " 'BPTTVPXVPXVPXTVPXVVE',\n",
       " 'BPTTTVPXVPXVPXTTVPSE',\n",
       " 'BTSXXTVPXVPXTTTTVVE',\n",
       " 'BTSSSSSSXXTTTTTTVVE',\n",
       " 'BPVPXTTVPXTTTTTVPSE',\n",
       " 'BPTTTTVPXVPXVPXTTVVE',\n",
       " 'BTSSSSSXXTTTTVPSE',\n",
       " 'BPTVPXTTTTTTVPSE',\n",
       " 'BTXXTVPXTVPXTVVE',\n",
       " 'BPTTTVPXTVPXTVPXVPSE',\n",
       " 'BTSXXVPXTTTTTVPXTVVE',\n",
       " 'BTSXXTTTTTTTTTVVE',\n",
       " 'BTSSXXTVPXTTTTVVE',\n",
       " 'BPVPXVPXVPXTTVPXVPSE',\n",
       " 'BPVPXTVPXTVPXTVPXVVE',\n",
       " 'BTXXVPXTTTTTTTVVE',\n",
       " 'BPTTTTTTTTTTTTVPXVVE',\n",
       " 'BTSXXTTTVPXTTTVPXVVE',\n",
       " 'BTSSXXTTTVVE',\n",
       " 'BTSXXTVPXTTVPXTTVPSE',\n",
       " 'BTSXXVPXVPXVPXTTTVVE',\n",
       " 'BTSSSXXVPXTTVPXTTVVE',\n",
       " 'BTSSSSXXTTTTTTTVVE',\n",
       " 'BTXXTTTTTVPXTTVPXVVE',\n",
       " 'BTXXTTTTTVPXTVPXTVVE',\n",
       " 'BPVPXTTTVPXTTVVE',\n",
       " 'BPVPXVPXTVPXTTVPXVVE',\n",
       " 'BTXXTVPXTTTTTTTVVE',\n",
       " 'BPTVPXTTVPXTTTVPSE',\n",
       " 'BTSXXTTTTTTTVPXVPSE',\n",
       " 'BTSSSSXXVPXTTVVE',\n",
       " 'BTXXTTTTVPSE',\n",
       " 'BPVPXTTVPXTTTVPXTVVE',\n",
       " 'BPTVPXTTTVPXVPXTVVE',\n",
       " 'BTSSSSXXVPXTVPSE',\n",
       " 'BTSSSSXXTTTTVPSE',\n",
       " 'BTSSSSSSSSSSSXXVVE',\n",
       " 'BPVPXVPXTTVPXVPXVVE',\n",
       " 'BTXXVPXTTTTTVVE',\n",
       " 'BPVPXTVPXVPXTVPSE',\n",
       " 'BPVPXTTTTTVPXTTTTVVE',\n",
       " 'BTSXXVPXVPXTTTVPXVVE',\n",
       " 'BPTTVPXVPXTVPXTVVE',\n",
       " 'BTXXVPXVPXVPXTTTVPSE',\n",
       " 'BTSXXTTVPXTTVPXTVPSE',\n",
       " 'BTXXTTTTTTTTTTTVPSE',\n",
       " 'BTSXXTVPXVPXVPXTVPSE',\n",
       " 'BTSSXXTVPXTTTTTTTVVE',\n",
       " 'BTSXXTTVPXTTVVE',\n",
       " 'BTSSXXTVPXVPSE',\n",
       " 'BTSXXTVPSE',\n",
       " 'BTSSSXXTTTTVPXTTVVE',\n",
       " 'BTXXTVPXVPXVPXTTVVE',\n",
       " 'BPTTTVPXTVPXVVE',\n",
       " 'BTSSXXTTVPXVPXVPXVVE',\n",
       " 'BPTTTTTTTVPXTTVPSE',\n",
       " 'BTXXTTVPXTTTTTTTVPSE',\n",
       " 'BTXXVPXVPXTTVPXVVE',\n",
       " 'BTSSXXVPXTVPXTVVE',\n",
       " 'BTXXVPXTTVPXTTTTVVE',\n",
       " 'BTSSSSSSSXXVPXVPSE',\n",
       " 'BTSSXXTVPXVPXTTTTVVE',\n",
       " 'BTSSSSSSXXTTVPXTVVE',\n",
       " 'BTSSSSSSXXTTVPXVVE',\n",
       " 'BPTTVPXTTTTTVVE',\n",
       " 'BTSSSSXXVPXVPSE',\n",
       " 'BTXXTVPXTTTVPSE',\n",
       " 'BTXXVPXVPXTTVVE',\n",
       " 'BPTTTTVPXTVPXTTTVPSE',\n",
       " 'BTSSXXVPXTTVPSE',\n",
       " 'BPTTTTTTVPXTTVVE',\n",
       " 'BPVPXTTVVE',\n",
       " 'BPVPXVPXTTTTVPXVVE',\n",
       " 'BTXXTTVPXTTTTTTTVVE',\n",
       " 'BPVPXVPXTTTVPXTVVE',\n",
       " 'BTXXTVPXTTTTTTTVPSE',\n",
       " 'BPVPXVPXTTTVPXTVPSE',\n",
       " 'BTSSSXXTTTTTVPSE',\n",
       " 'BTSXXTVPXTTTVPSE',\n",
       " 'BPVPXTVPXVPXTVPXVPSE',\n",
       " 'BTSSXXVPXTTTVPXTVVE',\n",
       " 'BPVPXVPXVPXTTTTTVPSE',\n",
       " 'BTSXXVPXTVPXTTTTVPSE',\n",
       " 'BTXXTTTTVPXTTVPXVVE',\n",
       " 'BPTTVPXTTVPXTTVPSE',\n",
       " 'BTXXTTTVPXTTTTTTTVVE',\n",
       " 'BTXXVPXTVPXVPXTVVE',\n",
       " 'BTXXTTTTTVPXVPXVPSE',\n",
       " 'BPTVPXVPXTVPXVPSE',\n",
       " 'BTSXXTVPXVPXVPSE',\n",
       " 'BPVPXTTVPXTVPXVPXVVE',\n",
       " 'BTXXTTTTVPXVPXTTVPSE',\n",
       " 'BTSSXXTTVPXTTTVVE',\n",
       " 'BPTTTTTVPXTVPXVPSE',\n",
       " 'BPVPXTTTVPXVPXVVE',\n",
       " 'BTSSSXXTTTVPSE',\n",
       " 'BPVPXTTTTVPXVPXVVE',\n",
       " 'BPTTTTTTTVPXTTVPXVVE',\n",
       " 'BPTTTTVPXVPSE',\n",
       " 'BTSSSXXTTTTTVPXVPSE',\n",
       " 'BTSXXTTTTTTTVPSE',\n",
       " 'BTXXTTTVPXVPXVVE',\n",
       " 'BPVPXTVPXVPXTTVPSE',\n",
       " 'BTSXXTTTTTVPXTTVVE',\n",
       " 'BTXXTVPXVPXTVVE',\n",
       " 'BPVPXTVPXVPXTVPXVVE',\n",
       " 'BTSSSSSSSSXXVPXTVVE',\n",
       " 'BPVPXVPXVPXVPXTVVE',\n",
       " 'BTXXVPXTVPXTVVE',\n",
       " 'BPTTVPXVPXVPXVPXVPSE',\n",
       " 'BTXXTTVPXVPXTVPXVVE',\n",
       " 'BTSSXXTVPXTTTVPXVVE',\n",
       " 'BTSSSSSXXTVPXVVE',\n",
       " 'BTXXTTTTTTTTVPXVPSE',\n",
       " 'BTSSSXXVPXTTTVPXVPSE',\n",
       " 'BPTTTTTVPXVPXVVE',\n",
       " 'BTXXTTTTVPXVPXVPXVVE',\n",
       " 'BPTTVPXTTTTTTTTTVVE',\n",
       " 'BTSXXTTTTTTTVVE',\n",
       " 'BTSSXXTTVPXTVVE',\n",
       " 'BTSSXXVPXVPXTVPSE',\n",
       " 'BTXXVPXTTTVPXTVPSE',\n",
       " 'BTSSSXXVPXTVPXVVE',\n",
       " 'BTSSSSXXTVPXTTVPXVVE',\n",
       " 'BTXXTVPXTTTTTTTTTVVE',\n",
       " 'BTSSSSSSSSSSSSXXTVVE',\n",
       " 'BTXXVPXTVPXTTTVPSE',\n",
       " 'BTXXTTVPXTTTVPXVVE',\n",
       " 'BTSSSXXVPXVPXTVPXVVE',\n",
       " 'BTXXTTVPXVPXTVPXVPSE',\n",
       " 'BTXXVPXVPXTVPXVPXVVE',\n",
       " 'BPVPXTTTTTTVPXVPXVVE',\n",
       " 'BTSXXTTVPXTTVPXVVE',\n",
       " 'BPTTVPXVPXTTTTTTVVE',\n",
       " 'BPVPXTTVPXTTTVVE',\n",
       " 'BTSSSSSSXXTTTVPSE',\n",
       " 'BPVPXTTVPXVPXTVPXVVE',\n",
       " 'BTXXTTVPXTVPXTVPSE',\n",
       " 'BTSSSSSSSSXXTVPXTVVE',\n",
       " 'BPTTTTTTVPXTVVE',\n",
       " 'BPTVPXTTTVPXTTTTVPSE',\n",
       " 'BTSSSXXTTTTTTTTTVVE',\n",
       " 'BPTTTTTVPXTTVPXTTVVE',\n",
       " 'BPTTVPXTVPXTTTTTVPSE',\n",
       " 'BTSSSSXXTTTVPXVVE',\n",
       " 'BTSSXXTTVPXVPXTTVVE',\n",
       " 'BTSSSSXXVPXTTVPSE',\n",
       " 'BTSXXVPXTTTTTTVPSE',\n",
       " 'BPTVPXVPXVPXTTVVE',\n",
       " 'BPTTTTTVPXTVPXTTVVE',\n",
       " 'BPVPXVPXTTTTTTTTVVE',\n",
       " 'BPVPXTTVPXVVE',\n",
       " 'BTSSXXTVPXVPXVPXVVE',\n",
       " 'BPTVPXVPXTTTTTTTVVE',\n",
       " 'BTSSXXTVPXTTTTVPXVVE',\n",
       " 'BTXXVPXTTVPXVPXVVE',\n",
       " 'BTSSXXTTTTVPXTVPSE',\n",
       " 'BTSSSXXVPXTVVE',\n",
       " 'BPTTTVPXTTTVPXTTVPSE',\n",
       " 'BTSSSSSSSSSXXVPSE',\n",
       " 'BTSXXTTTTVPXTTTTVVE',\n",
       " 'BTXXTVPXVPXTTTTVPSE',\n",
       " 'BPTTVPXTVVE',\n",
       " 'BTSSSSSSSSSXXTTTTVVE',\n",
       " 'BTXXVPXTTTTTTTTTVVE',\n",
       " 'BTSXXTTVPXVPXTTTVVE',\n",
       " 'BPVPXVPXVPXTTTTTVVE',\n",
       " 'BPVPXVPXTTTVPXTTTVVE',\n",
       " 'BTSSSSSXXVPXVPXTTVVE',\n",
       " 'BTSXXTTTVPXTVPXVVE',\n",
       " 'BPTVPXTTVPXTTVPXTVVE',\n",
       " 'BTXXTTTVPXTTTVPXVVE',\n",
       " 'BTXXTTTVPXTTTTVVE',\n",
       " 'BPTTVPXVPXTTTTTVVE',\n",
       " 'BTSSSXXTTVPXTTVPXVVE',\n",
       " 'BPVPXTTTTTTTVPXTVVE',\n",
       " 'BPVPXTVPXTVPXTVVE',\n",
       " 'BTSSXXTTTVPXTTVPSE',\n",
       " 'BPTVPXVPXVPXVPXVVE',\n",
       " 'BTXXVPXTTTVPXVPXTVVE',\n",
       " 'BPTTTVPXVPXTTTVVE',\n",
       " 'BTSSSSXXTTVPXTTVPSE',\n",
       " 'BTSSSSXXTTTTTTTVPSE',\n",
       " 'BTSSSXXTTTTVPXTVVE',\n",
       " 'BTSSSXXTVPXTVVE',\n",
       " 'BTXXVPXVPXVPXVPXVVE',\n",
       " 'BTSSSXXVPXVPXTTTVPSE',\n",
       " 'BPTTTTTTTVPXTTTTVVE',\n",
       " 'BPVPXTTTVPXVPXTTVPSE',\n",
       " 'BTXXTVPXVPXTVPXTVPSE',\n",
       " 'BPTTTVPXTVPXVPXTVPSE',\n",
       " 'BPVPXTTTTTVPXTTVPSE',\n",
       " 'BPTTTTTTTTTTTTTVVE',\n",
       " 'BTSSSXXTVPXVPXTTVPSE',\n",
       " 'BTSSXXVPXTTTVVE',\n",
       " 'BPTTTTTVPXTVPXTTVPSE',\n",
       " 'BPTVPXTVPXVPXTTTTVVE',\n",
       " 'BTXXVPXTTVPXTTTVPSE',\n",
       " 'BTSSSSXXTTVPXTVPXVVE',\n",
       " 'BTXXTTTVPXVPXTTVVE',\n",
       " 'BTSXXVPXTTVPXTVPXVVE',\n",
       " 'BTSSSSXXTTTVVE',\n",
       " 'BPVPXTVPXTVPSE',\n",
       " 'BTSSSXXVPXTTTVPXTVVE',\n",
       " 'BPTTVPXVPXVPXTVVE',\n",
       " 'BPVPXTTTTTTVPXTTVPSE',\n",
       " 'BTSSSXXTTTTVPXVVE',\n",
       " 'BTXXTTVPXVPXTVPXTVVE',\n",
       " 'BTXXVPXTVPXVPXVPXVVE',\n",
       " 'BTSSSSSSSSXXTTTTVVE',\n",
       " 'BTXXTVPXTVPXVPXTVVE',\n",
       " 'BTSSXXVPXTVPXTTVPSE',\n",
       " 'BPVPXTVVE',\n",
       " 'BTXXTTTVPXTTVPXVPSE',\n",
       " 'BTXXTVPXVPXVPXVVE',\n",
       " 'BTXXTTVPXTTTTTTVVE',\n",
       " 'BTSXXTVPXVPXTVPXVPSE',\n",
       " 'BTSSSSSSSXXTTTVPSE',\n",
       " 'BPTTVPXVPXVPXVPSE',\n",
       " 'BTSSXXTTTVPXVVE',\n",
       " 'BTSXXTTVPXVPXTTTTVVE',\n",
       " 'BTSSSSXXTTTTVPXTVPSE',\n",
       " 'BTXXTTVPXTVPXTVVE',\n",
       " 'BPVPXTTTTTVPXTVVE',\n",
       " 'BTSXXVPXVPXVPXTTVVE',\n",
       " 'BPTTTTVPXTVPXTTVVE',\n",
       " 'BTXXTVPXTTVPSE',\n",
       " 'BPTTVPXVPXTVPXTTVPSE',\n",
       " 'BTSSSXXTVPXVVE',\n",
       " 'BPVPXVPXTTTVVE',\n",
       " 'BTSXXTTTTVPXTTVVE',\n",
       " 'BTSSXXTTTTTTTTTVPSE',\n",
       " 'BPTVPXTVPXTTTVPSE',\n",
       " 'BTSSSXXTTVPXVPXVVE',\n",
       " 'BTSSSXXVPXTTTTVPSE',\n",
       " 'BTSSSXXTTVPXTTVPSE',\n",
       " 'BPTTTVPXTTTVPXVPSE',\n",
       " 'BPTVPXTVPXTTTVVE',\n",
       " 'BPVPXTTTVPXTTVPXTVVE',\n",
       " 'BTSSSXXVPXVPXVPSE',\n",
       " 'BPTVPXTTTVPXVVE',\n",
       " 'BTXXTTTTVPXVPSE',\n",
       " 'BTSSSSXXVPXTTTTVPSE',\n",
       " 'BPVPXVPXTVPXTTTVPSE',\n",
       " 'BPVPXVPXTTTTVPXTVPSE',\n",
       " 'BPTVPXVPXVPXTTTTVPSE',\n",
       " 'BTSSXXTTVPXVPXTVPSE',\n",
       " 'BTXXTVPXTTVPXVPXVVE',\n",
       " 'BTSXXVPXTTVPXTVVE',\n",
       " 'BTXXVPXTTTVVE',\n",
       " 'BPTTVPXVPXTTVVE',\n",
       " 'BPTTTVPXTTVPXVPXVPSE',\n",
       " 'BPTTTTTTTTTVVE',\n",
       " 'BTSSSSSSSSSSSSSXXVVE',\n",
       " 'BTXXTTVPXTVPXVPXTVVE',\n",
       " 'BTXXTTTTTTTTTTTTVVE',\n",
       " 'BPVPXTTTTVPXTVPSE',\n",
       " 'BTXXVPXTVPXVPXTTTVVE',\n",
       " 'BTSSSSXXTTVPXTTVVE',\n",
       " 'BTSSSXXTTTVPXVVE',\n",
       " 'BTSSXXTVPXTVPXTTTVVE',\n",
       " 'BTSSSSSSSSXXTVPXVVE',\n",
       " 'BTSSSSXXVPXTTVPXVVE',\n",
       " 'BTSXXTTTTVPXTVPXVPSE',\n",
       " 'BPVPXTTTVPXVPXTTVVE',\n",
       " 'BTXXTVPXTVVE',\n",
       " 'BPVPXTTVPXTTTTVPSE',\n",
       " 'BTXXVPXTTTTVPXTTVPSE',\n",
       " 'BTXXTTVPXVPSE',\n",
       " 'BPTVPXTTVPXTVPXTTVVE',\n",
       " 'BPTVPXTTTVPXTTTVVE',\n",
       " 'BTSXXTTTVPXTTVVE',\n",
       " 'BTXXTVPXVPXTVPXVPSE',\n",
       " 'BTSXXTVPXTTTTVPXVVE',\n",
       " 'BPTTVPXTVPXTTVPXVPSE',\n",
       " 'BTSSSSXXVPXVPXVVE',\n",
       " 'BTSSSSSSXXTTVPXTVPSE',\n",
       " 'BPVPXTTVPXTVVE',\n",
       " 'BTSSXXVPXTTTTTTTTVVE',\n",
       " 'BTSSXXVPXTTTVPXVVE',\n",
       " 'BPTTVPXTVPXVPXVPXVVE',\n",
       " 'BPTTTVPXVPXVPXTVVE',\n",
       " 'BPVPXTTTTTVPXVPXVVE',\n",
       " 'BPTTVPXTVPXTTVPSE',\n",
       " 'BTSSSSSSSSXSE',\n",
       " 'BTSSXXVPXTTTTVPXVPSE',\n",
       " 'BTSSSSXXVPXVPXVPXVVE',\n",
       " 'BPTTVPXTTVPXTTTTVVE',\n",
       " 'BTSSXXVPXTTTVPXTVPSE',\n",
       " 'BPTTVPXTVPXVPXVPSE',\n",
       " 'BPTTTTTTTTTVPXVPXVVE',\n",
       " 'BTSSSSSSXXTTVPXVPSE',\n",
       " 'BTSSSSSSXXTTTTTTVPSE',\n",
       " 'BTXXTTTTTTVPXTTVVE',\n",
       " 'BPTTTVPXTVPXVPSE',\n",
       " 'BTXXVPXVPXVPXVPSE',\n",
       " 'BTSXXVPXTTTTVPSE',\n",
       " 'BPTTTVPXVPXTVPXVPSE',\n",
       " 'BTSSXXTTTTVPXVPXVPSE',\n",
       " 'BTSSSSXXVPXVPXVPSE',\n",
       " 'BPTVPXVPXTTTTTTTTVVE',\n",
       " 'BTSSXXTVPXTTTVPXVPSE',\n",
       " 'BTSSSXXTVPXTTVPSE',\n",
       " 'BPVPXVPXTVPXTVPXVPSE',\n",
       " 'BTSXXTTTTTVPXTTTVPSE',\n",
       " 'BPTTTTVPXVPXTVPXVPSE',\n",
       " 'BTSXXVPXTTTVPXTVVE',\n",
       " 'BPTVPXTTTVPSE',\n",
       " 'BPTTTVPXTTVPXVPXVVE',\n",
       " 'BPVPXTTVPXTTVVE',\n",
       " 'BTXXVPXTTTVPXTTTTVVE',\n",
       " 'BPTVPXTVPXTVPXVPXVVE',\n",
       " 'BPTVPXTVPXTTVPXTVPSE',\n",
       " 'BPTVPXTVPXVPXTVPXVVE',\n",
       " 'BTSXXTVPXTTVVE',\n",
       " 'BTSSSSXXTVPXTVPSE',\n",
       " 'BTSSSSXXVPXTTTTTVVE',\n",
       " 'BTSSSSSXXTTVPSE',\n",
       " 'BTXXTTTTTVPXVPXVVE',\n",
       " 'BTSXXVPXTTTTTTVVE',\n",
       " 'BTXXTTTVPXVVE',\n",
       " 'BTSSSXXTTVPXTTTTTVVE',\n",
       " 'BTSSXXTTTVPSE',\n",
       " 'BPTVPXVPXTVPXTTTVPSE',\n",
       " 'BPTTTVPXTTTTTTVPSE',\n",
       " 'BPTVPXVPXTTTVPXVPSE',\n",
       " 'BPTVPXVPXTTTTVPXTVVE',\n",
       " 'BTXXVPXTTTTTVPXVVE',\n",
       " 'BPTTTTTVPXVPXTTTVPSE',\n",
       " 'BPTTTTVPXVPXTVPSE',\n",
       " 'BPTTTTTVPXTTTVPXTVVE',\n",
       " 'BTXXTTVPXTVPXTTTVPSE',\n",
       " 'BPTVPXTTTTTVPXTTTVVE',\n",
       " 'BPTTTTTTVPXVPXVPSE',\n",
       " 'BPVPXVPXVPXTTVPXTVVE',\n",
       " 'BTXXVPXTTTTVPXVPSE',\n",
       " 'BTSXXTTTVPXTTTTTVVE',\n",
       " 'BPTVPXVPXTTTVPXVVE',\n",
       " 'BPVPXTTTTTVPXTTTVVE',\n",
       " 'BTXXTVPXTVPXVPXVPSE',\n",
       " 'BTXXTTTVPXVPXTTTTVVE',\n",
       " 'BPVPXVPXVPXTVPSE',\n",
       " 'BPVPXTVPXTVPXVVE',\n",
       " 'BTXXTTTVPXTTTTTTVPSE',\n",
       " 'BTSXXVPXVVE',\n",
       " 'BPTTTVPXVPXTVVE',\n",
       " 'BPTTVPXTTVPXTVPXVVE',\n",
       " 'BPTTTVPXTTVPXVVE',\n",
       " 'BTXXTVPXVPXVPXVPSE',\n",
       " 'BPVPXVPXTVPXTVPXVVE',\n",
       " 'BTXXVPXTTVPXTTTTTVVE',\n",
       " 'BTXXTVPXTTTTVPXVVE',\n",
       " 'BPTVPXTVPXTTTTTTVPSE',\n",
       " 'BPTTTTTTVPXTTTTTVPSE',\n",
       " 'BTSSSSSSSSXXTVVE',\n",
       " 'BTSXXTTVPXVPXVVE',\n",
       " 'BPTVPXTTVPXTTVPXVPSE',\n",
       " 'BTSXXTTVPXTTTTTTTVVE',\n",
       " 'BPTTVPXTTTTTTTTVVE',\n",
       " 'BTXXVPXVPXVPXTVPSE',\n",
       " 'BTSXXVPXVPXTTVPXVVE',\n",
       " 'BPTTVPXTTTTVPXTTTVVE',\n",
       " 'BTSSXXTTTTVPXVPXTVVE',\n",
       " 'BPTTVPXVPXTTTTVPXVVE',\n",
       " 'BTXXVPXTTTTTVPXTVPSE',\n",
       " 'BTSSSXXTTVPXVPXTTVVE',\n",
       " 'BTSSXXVPXVPXTVPXVPSE',\n",
       " 'BPTVPXTTTTVPXTVVE',\n",
       " 'BPTTVPXVPXVPXTTVVE',\n",
       " 'BPVPXVPXTTVPXVVE',\n",
       " 'BPVPXVPXTTTTTTVPSE',\n",
       " 'BTSSXXVPXTTTTTVPSE',\n",
       " 'BPVPXVPXTVPXTVPSE',\n",
       " 'BTSSXXVPXVPXVVE',\n",
       " 'BPVPXVPXVPXTTVPXVVE',\n",
       " 'BPTTTTTTTTVPXVPXTVVE',\n",
       " 'BPTTVPXVPXTTTVPSE',\n",
       " 'BPTTVPXTVPXTTTTVPSE',\n",
       " 'BPVPXTVPXTTTVPXVPSE',\n",
       " 'BPTTTVPXVPXTTVPXVPSE',\n",
       " 'BTSSSSSXXVPXVVE',\n",
       " 'BTSSSXXTVPXTTTVPSE',\n",
       " 'BTSXXTVPXVPXTTVVE',\n",
       " 'BPVPXVPXTVPXVPXVVE',\n",
       " 'BTSSXXTTTTTTTVVE',\n",
       " 'BPTTVPXTTTTVPXVVE',\n",
       " 'BTSXXTTVPXVPXTVPSE',\n",
       " 'BPTVPXVPSE',\n",
       " 'BTXXTTTVPXVPXTTVPSE',\n",
       " 'BTSSSSSXXTTTVPXTTVVE',\n",
       " 'BTXXTVPXTTTTVVE',\n",
       " 'BTSXXTTTVPXTTTVVE',\n",
       " 'BPTTTVPXVPXTTTVPSE',\n",
       " 'BPTTTTVPXTTTTTTTTVVE',\n",
       " 'BPTTVPXVPXTTTTTTTVVE',\n",
       " 'BPTVPXTTVPXVPXTTVPSE',\n",
       " 'BTSXXTTVPXTTTTTTVPSE',\n",
       " 'BPTVPXTVPXVPXVPXVPSE',\n",
       " 'BPVPXTVPXTTVPXTVPSE',\n",
       " 'BTSSXXVPXTVPXVPXVVE',\n",
       " 'BPTVPXTVPXVPXTTVPSE',\n",
       " 'BTSXXTTTTTVPXTTVPSE',\n",
       " 'BPTTVPXTVPXTTTVVE',\n",
       " 'BTSXXTTTTTTTVPXTVPSE',\n",
       " 'BTXXTTTTTTTVPXTTVPSE',\n",
       " 'BTXXTTTTVPXTVPXTTVVE',\n",
       " 'BTXXVPXTVPXTTTTTTVVE',\n",
       " 'BTSSSSSSXXTVVE',\n",
       " 'BPTTVPXTTVVE',\n",
       " 'BTXXTTVPXVPXTVVE',\n",
       " 'BTSSXXTVPXTVPXVPXVVE',\n",
       " 'BTSSXXVPXVPXVPXTTVVE',\n",
       " 'BPVPXTTTVPXTTTVPSE',\n",
       " 'BTXXTTTTTTVPXTTTTVVE',\n",
       " 'BPTTTVPXTTTVPXTVPSE',\n",
       " 'BPTTTTVPXTTVPXTVPSE',\n",
       " 'BPVPXTVPXTTVPXVPXVVE',\n",
       " 'BTXXVPXTTTTVVE',\n",
       " 'BPTTTTVPXTTTTVPXTVVE',\n",
       " 'BTSXXVPXTVPXTTTVPSE',\n",
       " 'BPVPXVPXVPXVPXTVPSE',\n",
       " 'BTSXXTVPXVPSE',\n",
       " 'BPTTTTTTTTTTTTTTVVE',\n",
       " 'BTSSSSXXVVE',\n",
       " 'BPTTTTTTVPXTVPXTTVVE',\n",
       " 'BTXXVPXVPXTTVPXTVVE',\n",
       " 'BTXXTTTTTTTTTVPSE',\n",
       " 'BPTTVPXVPXTVPXTTTVVE',\n",
       " 'BPTTVPXTTTTVPXTTVPSE',\n",
       " 'BTSSXXTTTTTTTVPXVVE',\n",
       " 'BTXXTTTTTTVPXTTTVPSE',\n",
       " 'BTSXXTVPXVPXTVPXVVE',\n",
       " 'BPVPXTTVPXTVPXTTVPSE',\n",
       " 'BTSSSSXXTTTVPXVPXVVE',\n",
       " 'BPTTVPSE',\n",
       " 'BPVPXTVPXVPXVPXVVE',\n",
       " 'BTXXTTVPXTTVPXTTVPSE',\n",
       " 'BTSSXXTTTTTVPXVPXVVE',\n",
       " 'BPVPXTVPXVPXTTTVPSE',\n",
       " 'BPVPXTTTTVPXTVPXTVVE',\n",
       " 'BTSSSSSXXVPXVPXVVE',\n",
       " 'BPTTTTTTTTTTTVPXVPSE',\n",
       " 'BTSXXVPXTVPXTVPXVPSE',\n",
       " 'BTXXTVPXTVPXVPXVVE',\n",
       " 'BTSSXXTVPXTVPXTTVVE',\n",
       " 'BPTVPXTTTTTTTVPXVPSE',\n",
       " 'BTSSSSSXXTTVVE',\n",
       " 'BTSSXXVPXVPXTTTVPSE',\n",
       " 'BTSSXXTVPXTVPXTVVE',\n",
       " 'BTXXTTTVPXVPXTVPSE',\n",
       " 'BTXSE',\n",
       " 'BPVPXTTVPXVPXVVE',\n",
       " 'BPTVPXTTVPXTVPXTVVE',\n",
       " 'BPTTVPXVPXTTTTVPSE',\n",
       " 'BTXXTTVPXTTTTVPXVPSE',\n",
       " 'BTSSXXVPXTTTTTTVVE',\n",
       " 'BPTVPXTTTTVPXTTTVPSE',\n",
       " 'BPTVPXTVPXTTTTVVE',\n",
       " 'BPTTTVPXVPXVPXVPSE',\n",
       " 'BTSSXXTTTTVPXTTTVPSE',\n",
       " 'BTXXTVPXVPXTTVPSE',\n",
       " 'BPTTVPXTTTTTVPXVVE',\n",
       " 'BTXXTVPXTTTTTTTTVVE',\n",
       " 'BPTTTTVPXVPXTTTVPSE',\n",
       " 'BTSSXXTVPXTTVPXVVE',\n",
       " 'BTXXTTVPXTTTTTVVE',\n",
       " 'BTSXXTVPXTVPXVVE',\n",
       " 'BTSSSXXVPXTTTTTVVE',\n",
       " 'BPTTTTTTTVPXTTTTTVVE',\n",
       " 'BTSSSXXVPXVPXTVVE',\n",
       " 'BTSSXXVPXTTVVE',\n",
       " 'BPVPXTVPXVPXTTTTVPSE',\n",
       " 'BPTTTVPXTVPXTVPXTVVE',\n",
       " 'BPTVPXVPXTVVE',\n",
       " 'BPTTVPXTTVPXTTTVPSE',\n",
       " 'BPTTTTTTTTVVE',\n",
       " 'BPTTVPXTVPXVPXTVPSE',\n",
       " 'BTSXXVPXTTTVPXVPSE',\n",
       " 'BTSSSSSXXTVPXVPXVPSE',\n",
       " 'BTXXVPXTTTTTTTTVPSE',\n",
       " 'BPVPXVPXVPXVPXVPXVVE',\n",
       " 'BTSSSSSXXTTVPXTTVVE',\n",
       " 'BPVPXVPXTTVPXVPXTVVE',\n",
       " 'BTSSSSXXVPXTTTVPSE',\n",
       " 'BTXXTTTTTTTTVPSE',\n",
       " 'BTXXTTVPXTTVPXVVE',\n",
       " 'BTXXTTTTTVPXVPXTTVVE',\n",
       " 'BTSSSSSXSE',\n",
       " 'BTXXTVPXTTVVE',\n",
       " 'BTSSSSXXTTTTTVPSE',\n",
       " 'BPTTTTTVPXTTTVVE',\n",
       " 'BTSSSSSXXVPXVPXTVPSE',\n",
       " 'BPTTTTTTVPXVPSE',\n",
       " 'BPTVPXTVPXTVPXTVVE',\n",
       " 'BTSSSSSSSXXTTTTVVE',\n",
       " 'BTSSXXTTTVPXTTTTVPSE',\n",
       " 'BPTTTVPXTVPXTTTTVPSE',\n",
       " 'BTSSSSSSSSXXTTVPXVVE',\n",
       " 'BPTTVPXVPXVPXTTTTVVE',\n",
       " 'BTSXXTTTVPSE',\n",
       " 'BTSSSXXTVPXTTTTTVVE',\n",
       " 'BTSXXTVPXTTVPXVPXVVE',\n",
       " 'BTSSSSSSSXXTVPXTTVVE',\n",
       " 'BPTVPXVPXTTTTVPXVPSE',\n",
       " 'BPVPXTVPXTVPXTTTVVE',\n",
       " 'BTSXXTTTTTTTTTTTVVE',\n",
       " 'BPTTVPXTTVPXTVPSE',\n",
       " 'BTXXTVPXVPXTTTTTVVE',\n",
       " 'BTSXXTVPXTVPXVPXTVVE',\n",
       " 'BTSSXXTVPXTVPXVVE',\n",
       " 'BTSXXTTVPXVPXVPXVPSE',\n",
       " 'BPTVPXTTVPXTVPXTVPSE',\n",
       " 'BPTTVPXTVPXTVPXVVE',\n",
       " 'BTXXVPXTTTVPXTTVPSE',\n",
       " 'BTXXVPXVPXTVPXTVVE',\n",
       " 'BTSSSSXXTVPXTVPXVPSE',\n",
       " 'BPTTTTTTTTTTVPXTTVVE',\n",
       " 'BTSSSXXTTTTVPXTTTVVE',\n",
       " 'BTSSXXTTVPXTVPXTVVE',\n",
       " 'BTXXTTTVPXTTVPSE',\n",
       " 'BPTTVPXTTTTTTTVPSE',\n",
       " 'BPTTTTVPXVPXVPSE',\n",
       " 'BTSSSSSXXTTTTTTTTVVE',\n",
       " 'BTSSSSXXTTVPXTTTTVVE',\n",
       " 'BTSSSSSXXTVPXTTVVE',\n",
       " 'BPVPXTTVPXTTVPXVVE',\n",
       " 'BTXXTVPXTVPXTVPSE',\n",
       " 'BPVPXVPXVPXTTTTVPSE',\n",
       " 'BPTVPXTTTTTTVPXTVVE',\n",
       " 'BTSSSSSSSXXVPXVPXVVE',\n",
       " 'BPVPXTVPXVPXVPXTVPSE',\n",
       " 'BTSXXVPXTTTTVPXTVVE',\n",
       " 'BTXXVPXTVPXTTVPXVPSE',\n",
       " 'BPTTTTVPXTTVPXTVVE',\n",
       " 'BTXXTTVPXTTVPXTTVVE',\n",
       " 'BTXXTTVPXTTTTVPSE',\n",
       " 'BTSSXXVPXTTTTTVVE',\n",
       " 'BTSXXTVPXTTTVPXVVE',\n",
       " 'BTSSXXTTTTVVE',\n",
       " 'BTSSSSSSSSXXTTVVE',\n",
       " 'BTSSSXXTTTTVPXTVPSE',\n",
       " 'BPTVPXTVPXTTTVPXTVVE',\n",
       " 'BTXXTVVE',\n",
       " 'BTSXXVPXVPXVPXTTVPSE',\n",
       " 'BPTTVPXTTVPXTVPXTVVE',\n",
       " 'BTSSSSSSSSXXVPXTTVVE',\n",
       " 'BTSSSXXTTTTVPXTTVPSE',\n",
       " 'BTSSXXVPXTTTVPXVPSE',\n",
       " 'BTXXVPXTTVPSE',\n",
       " 'BPTTTTTTVPXTTVPXTVVE',\n",
       " 'BTSXXVPXVPXVPSE',\n",
       " 'BPVPXTTTTVPXTTTVPSE',\n",
       " 'BTSSSXXTTTTTTVPSE',\n",
       " 'BPTTTTTVPXTTTTTTVVE',\n",
       " 'BPTTTTTVPXTTVPXTVVE',\n",
       " 'BTSSSSSXXTTTTTVVE',\n",
       " 'BTXXVPXTVPXTTVVE',\n",
       " 'BTSXXVPXTVPXTTVPXVVE',\n",
       " 'BPTVPXVPXVPXTTTTVVE',\n",
       " 'BPTTVPXVPXTTTVPXVPSE',\n",
       " 'BTSXXVPXTTTTVPXTVPSE',\n",
       " 'BTSSSSXXTVPXVPXTVPSE',\n",
       " 'BTXXTTTTVPXTTTTTVPSE',\n",
       " 'BPTVPXTVPXTTTTTTVVE',\n",
       " 'BTSXXVPXVPXTTTTTVVE',\n",
       " 'BTXXTTTTTTTTVPXTTVVE',\n",
       " 'BTSXXTTTTVPXVPXTVVE',\n",
       " 'BTSXXTTVPXTTVPXVPSE',\n",
       " 'BTSXXTTTVPXTVPXTVPSE',\n",
       " 'BPVPXVPXTVVE',\n",
       " 'BTSSSSXXVPXVPXTVPSE',\n",
       " 'BTSXXTVPXTVVE',\n",
       " 'BPTTVPXTVPSE',\n",
       " 'BPVPXVPXTVPXVPXTVPSE',\n",
       " 'BPVPXVPXTVPSE',\n",
       " 'BTSSSSSSXXTVPXVPXVVE',\n",
       " 'BTXXVPXVPXTTTVPXVPSE',\n",
       " 'BPTTTTTVPXTVPSE',\n",
       " 'BPTVPXTTVPXTVPSE',\n",
       " 'BTXXTTVPXTTVVE',\n",
       " 'BTSXXTTTTTTTTVPSE',\n",
       " 'BTXXTTTTTTTTTVPXTVVE',\n",
       " 'BPTTVPXTTTTTTTVVE',\n",
       " 'BPTVPXVPXTVPXTTVPSE',\n",
       " 'BTSXXTTTTVPXVPXVVE',\n",
       " 'BPTVPXVPXTTVPXVPSE',\n",
       " 'BTSSSSXXTVPXVPXTTVVE',\n",
       " 'BTSSSSXXTTTTTTTTVPSE',\n",
       " 'BTXXTTTTTTTTVPXVVE',\n",
       " 'BTSXXTTVPXTTTTTTVVE',\n",
       " 'BTSSSSSXXTTTTTTVVE',\n",
       " 'BPTVPXVPXTTTVPSE',\n",
       " 'BPTTTTTTTTVPSE',\n",
       " 'BTSSXXTTTVPXVPXVPSE',\n",
       " 'BTSSXXVPXTVPSE',\n",
       " 'BPTTVPXTVPXTTTTVVE',\n",
       " 'BTSXXTTTVPXVPXVPXVVE',\n",
       " 'BTSXXTVPXTVPXTTTVVE',\n",
       " 'BTSSSXXTVPXTTTTTVPSE',\n",
       " 'BTSSXXTTVPXTTTTTVVE',\n",
       " 'BTXXTTTTTTVPXTTVPSE',\n",
       " 'BTSSSSSSXXTVPXTTVPSE',\n",
       " 'BTSXXTVPXVPXVPXVPSE',\n",
       " 'BTSSXXVPXTTTTVPXTVVE',\n",
       " 'BTSSXXTTTTTTTTTTTVVE',\n",
       " 'BTXXVPXTTVVE',\n",
       " 'BTXXTTTTVPXTTVPXTVVE',\n",
       " 'BTXXTTTTVPXTTVPXVPSE',\n",
       " 'BPTTTTTVPXTVPXVVE',\n",
       " 'BPVPXVPXTTTTTVVE',\n",
       " 'BTSXXTTVPXTVPXVPXVVE',\n",
       " 'BTXXTTTTTTVPXTVPXVVE',\n",
       " 'BTSSSXXTTTTTTVVE',\n",
       " 'BTXXTTTVPXTTVVE',\n",
       " 'BTSSSSXXVPXTTVPXVPSE',\n",
       " 'BTSSSXXTTVPXTVPXTVVE',\n",
       " 'BTXXVPXTVPXTTTVPXVVE',\n",
       " 'BTSSXXVPXTTVPXVPSE',\n",
       " 'BTSSSXXTVPXTTTVVE',\n",
       " 'BPVPXVPXTTVVE',\n",
       " 'BTSSSSSXXTVPXTTTVVE',\n",
       " 'BTSSSSXXVPXTTVPXTVVE',\n",
       " 'BTXXTTTVPXTVPXTVVE',\n",
       " 'BTSXXTVPXVVE',\n",
       " 'BPTVPXTVPXVPXTVPSE',\n",
       " 'BTSSSSXXVPSE',\n",
       " 'BPVPXTTTTVPXVPXVPSE',\n",
       " 'BTSSSSXXVPXTTTTTVPSE',\n",
       " 'BTSSXXTTTVPXTVPXVVE',\n",
       " 'BTSSSSSSSXXTTVPSE',\n",
       " 'BPTTTTVPXTTTTTVPSE',\n",
       " 'BTSXXVPSE',\n",
       " 'BPTVPXTTVPXTVVE',\n",
       " 'BPTTTTTVPXVPXTVPXVVE',\n",
       " 'BTSSSSSSXXTVPXTVVE',\n",
       " 'BTSXXTTVPXVPXTVVE',\n",
       " 'BTSSSSSSXXTTTTVPSE',\n",
       " 'BPTTTTTVPXTTTTVPSE',\n",
       " ...}"
      ]
     },
     "execution_count": 16,
     "metadata": {},
     "output_type": "execute_result"
    }
   ],
   "source": [
    "generator.lexicon"
   ]
  },
  {
   "cell_type": "code",
   "execution_count": 17,
   "metadata": {},
   "outputs": [],
   "source": [
    "# Train-Test Split"
   ]
  },
  {
   "cell_type": "code",
   "execution_count": 18,
   "metadata": {},
   "outputs": [],
   "source": [
    "X_train = preprocessing(list(generator.lexicon)[:2000])"
   ]
  },
  {
   "cell_type": "code",
   "execution_count": 19,
   "metadata": {},
   "outputs": [],
   "source": [
    "y_train = preprocessing(list(generator.lexicon)[:2000],1)"
   ]
  },
  {
   "cell_type": "code",
   "execution_count": 20,
   "metadata": {},
   "outputs": [],
   "source": [
    "X_test = preprocessing(list(generator.lexicon)[2000:])"
   ]
  },
  {
   "cell_type": "code",
   "execution_count": 21,
   "metadata": {},
   "outputs": [],
   "source": [
    "y_test = preprocessing(list(generator.lexicon)[2000:],1)"
   ]
  },
  {
   "cell_type": "code",
   "execution_count": 22,
   "metadata": {},
   "outputs": [],
   "source": [
    "#X_validation = preprocessing(list(generator.lexicon)[2000:])"
   ]
  },
  {
   "cell_type": "code",
   "execution_count": 23,
   "metadata": {},
   "outputs": [],
   "source": [
    "#y_validation = preprocessing(list(generator.lexicon)[2000:],1)"
   ]
  },
  {
   "cell_type": "code",
   "execution_count": 24,
   "metadata": {},
   "outputs": [],
   "source": [
    "# Model Creation"
   ]
  },
  {
   "cell_type": "code",
   "execution_count": 25,
   "metadata": {},
   "outputs": [],
   "source": [
    "from tensorflow.keras.models import Sequential\n",
    "from tensorflow.keras.layers import Dense,SimpleRNN,TimeDistributed,Dropout,LSTM"
   ]
  },
  {
   "cell_type": "code",
   "execution_count": 26,
   "metadata": {},
   "outputs": [],
   "source": [
    "model = Sequential()"
   ]
  },
  {
   "cell_type": "code",
   "execution_count": 27,
   "metadata": {},
   "outputs": [
    {
     "name": "stdout",
     "output_type": "stream",
     "text": [
      "WARNING:tensorflow:From /Users/gokul/opt/anaconda3/lib/python3.7/site-packages/tensorflow/python/ops/resource_variable_ops.py:435: colocate_with (from tensorflow.python.framework.ops) is deprecated and will be removed in a future version.\n",
      "Instructions for updating:\n",
      "Colocations handled automatically by placer.\n"
     ]
    }
   ],
   "source": [
    "model.add(LSTM(15,activation='relu',return_sequences=True,input_shape=X_train.shape[1:]))"
   ]
  },
  {
   "cell_type": "code",
   "execution_count": 28,
   "metadata": {},
   "outputs": [
    {
     "name": "stdout",
     "output_type": "stream",
     "text": [
      "WARNING:tensorflow:From /Users/gokul/opt/anaconda3/lib/python3.7/site-packages/tensorflow/python/keras/layers/core.py:143: calling dropout (from tensorflow.python.ops.nn_ops) with keep_prob is deprecated and will be removed in a future version.\n",
      "Instructions for updating:\n",
      "Please use `rate` instead of `keep_prob`. Rate should be set to `rate = 1 - keep_prob`.\n"
     ]
    }
   ],
   "source": [
    "model.add(Dropout(0.2))"
   ]
  },
  {
   "cell_type": "code",
   "execution_count": 29,
   "metadata": {},
   "outputs": [],
   "source": [
    "model.add(TimeDistributed(Dense(outputdim,activation='softmax')))"
   ]
  },
  {
   "cell_type": "code",
   "execution_count": 30,
   "metadata": {},
   "outputs": [],
   "source": [
    "from tensorflow.keras.callbacks import EarlyStopping"
   ]
  },
  {
   "cell_type": "code",
   "execution_count": 31,
   "metadata": {},
   "outputs": [],
   "source": [
    "early_stop = EarlyStopping(monitor='val_loss',mode='min',patience=5,verbose=1)"
   ]
  },
  {
   "cell_type": "code",
   "execution_count": 32,
   "metadata": {},
   "outputs": [],
   "source": [
    "import tensorflow.keras.backend as K \n",
    "from tensorflow.keras.metrics import top_k_categorical_accuracy\n",
    "def my_top_k(true, pred, num=2):\n",
    "    true = K.reshape(true, (-1, outputdim))   \n",
    "    pred = K.reshape(pred, (-1, outputdim))\n",
    "    return top_k_categorical_accuracy(true, pred, k=num)"
   ]
  },
  {
   "cell_type": "code",
   "execution_count": 33,
   "metadata": {},
   "outputs": [],
   "source": [
    "model.compile(optimizer='rmsprop',loss='binary_crossentropy',metrics=[my_top_k])"
   ]
  },
  {
   "cell_type": "code",
   "execution_count": 34,
   "metadata": {},
   "outputs": [
    {
     "name": "stdout",
     "output_type": "stream",
     "text": [
      "Train on 1600 samples, validate on 400 samples\n",
      "WARNING:tensorflow:From /Users/gokul/opt/anaconda3/lib/python3.7/site-packages/tensorflow/python/ops/math_ops.py:3066: to_int32 (from tensorflow.python.ops.math_ops) is deprecated and will be removed in a future version.\n",
      "Instructions for updating:\n",
      "Use tf.cast instead.\n",
      "Epoch 1/50\n",
      "1600/1600 [==============================] - 21s 13ms/sample - loss: 0.2617 - my_top_k: 0.6632 - val_loss: 0.1800 - val_my_top_k: 0.8147\n",
      "Epoch 2/50\n",
      "1600/1600 [==============================] - 20s 13ms/sample - loss: 0.1814 - my_top_k: 0.7977 - val_loss: 0.1498 - val_my_top_k: 0.8337\n",
      "Epoch 3/50\n",
      "1600/1600 [==============================] - 20s 13ms/sample - loss: 0.1626 - my_top_k: 0.8220 - val_loss: 0.1432 - val_my_top_k: 0.8418\n",
      "Epoch 4/50\n",
      "1600/1600 [==============================] - 20s 13ms/sample - loss: 0.1560 - my_top_k: 0.8482 - val_loss: 0.1445 - val_my_top_k: 0.8718\n",
      "Epoch 5/50\n",
      "1600/1600 [==============================] - 20s 13ms/sample - loss: 0.1533 - my_top_k: 0.8697 - val_loss: 0.1422 - val_my_top_k: 0.8852\n",
      "Epoch 6/50\n",
      "1600/1600 [==============================] - 20s 13ms/sample - loss: 0.1505 - my_top_k: 0.8765 - val_loss: 0.1415 - val_my_top_k: 0.8863\n",
      "Epoch 7/50\n",
      "1600/1600 [==============================] - 20s 13ms/sample - loss: 0.1501 - my_top_k: 0.8763 - val_loss: 0.1406 - val_my_top_k: 0.8736\n",
      "Epoch 8/50\n",
      "1600/1600 [==============================] - 20s 13ms/sample - loss: 0.1492 - my_top_k: 0.8812 - val_loss: 0.1400 - val_my_top_k: 0.8883\n",
      "Epoch 9/50\n",
      "1600/1600 [==============================] - 20s 13ms/sample - loss: 0.1481 - my_top_k: 0.8820 - val_loss: 0.1402 - val_my_top_k: 0.8786\n",
      "Epoch 10/50\n",
      "1600/1600 [==============================] - 20s 13ms/sample - loss: 0.1480 - my_top_k: 0.8861 - val_loss: 0.1395 - val_my_top_k: 0.8839\n",
      "Epoch 11/50\n",
      "1600/1600 [==============================] - 20s 13ms/sample - loss: 0.1471 - my_top_k: 0.8886 - val_loss: 0.1405 - val_my_top_k: 0.8875\n",
      "Epoch 12/50\n",
      "1600/1600 [==============================] - 20s 13ms/sample - loss: 0.1471 - my_top_k: 0.8864 - val_loss: 0.1423 - val_my_top_k: 0.9075\n",
      "Epoch 13/50\n",
      "1600/1600 [==============================] - 20s 13ms/sample - loss: 0.1461 - my_top_k: 0.8867 - val_loss: 0.1402 - val_my_top_k: 0.8810\n",
      "Epoch 14/50\n",
      "1600/1600 [==============================] - 20s 13ms/sample - loss: 0.1463 - my_top_k: 0.8872 - val_loss: 0.1400 - val_my_top_k: 0.8698\n",
      "Epoch 15/50\n",
      "1600/1600 [==============================] - 21s 13ms/sample - loss: 0.1459 - my_top_k: 0.8915 - val_loss: 0.1394 - val_my_top_k: 0.8814\n",
      "Epoch 16/50\n",
      "1600/1600 [==============================] - 21s 13ms/sample - loss: 0.1450 - my_top_k: 0.8890 - val_loss: 0.1400 - val_my_top_k: 0.9080\n",
      "Epoch 17/50\n",
      "1600/1600 [==============================] - 21s 13ms/sample - loss: 0.1453 - my_top_k: 0.8792 - val_loss: 0.1392 - val_my_top_k: 0.8729\n",
      "Epoch 18/50\n",
      "1600/1600 [==============================] - 21s 13ms/sample - loss: 0.1451 - my_top_k: 0.8778 - val_loss: 0.1393 - val_my_top_k: 0.8901\n",
      "Epoch 19/50\n",
      "1600/1600 [==============================] - 21s 13ms/sample - loss: 0.1448 - my_top_k: 0.8688 - val_loss: 0.1402 - val_my_top_k: 0.8540\n",
      "Epoch 20/50\n",
      "1600/1600 [==============================] - 21s 13ms/sample - loss: 0.1446 - my_top_k: 0.8640 - val_loss: 0.1387 - val_my_top_k: 0.8685\n",
      "Epoch 21/50\n",
      "1600/1600 [==============================] - 21s 13ms/sample - loss: 0.1449 - my_top_k: 0.8665 - val_loss: 0.1409 - val_my_top_k: 0.8695\n",
      "Epoch 22/50\n",
      "1600/1600 [==============================] - 21s 13ms/sample - loss: 0.1446 - my_top_k: 0.8715 - val_loss: 0.1391 - val_my_top_k: 0.8931\n",
      "Epoch 23/50\n",
      "1600/1600 [==============================] - 20s 13ms/sample - loss: 0.1445 - my_top_k: 0.8673 - val_loss: 0.1400 - val_my_top_k: 0.8631\n",
      "Epoch 24/50\n",
      "1600/1600 [==============================] - 20s 13ms/sample - loss: 0.1440 - my_top_k: 0.8692 - val_loss: 0.1400 - val_my_top_k: 0.8638\n",
      "Epoch 25/50\n",
      "1600/1600 [==============================] - 20s 13ms/sample - loss: 0.1439 - my_top_k: 0.8727 - val_loss: 0.1394 - val_my_top_k: 0.8549\n",
      "Epoch 00025: early stopping\n"
     ]
    },
    {
     "data": {
      "text/plain": [
       "<tensorflow.python.keras.callbacks.History at 0x7f82d1aaf9d0>"
      ]
     },
     "execution_count": 34,
     "metadata": {},
     "output_type": "execute_result"
    }
   ],
   "source": [
    "model.fit(x=X_train,y=y_train,batch_size=1,epochs=50,callbacks=[early_stop],validation_split=0.2)"
   ]
  },
  {
   "cell_type": "code",
   "execution_count": 35,
   "metadata": {},
   "outputs": [],
   "source": [
    "import pandas as pd"
   ]
  },
  {
   "cell_type": "code",
   "execution_count": 36,
   "metadata": {},
   "outputs": [],
   "source": [
    "losses = pd.DataFrame(model.history.history)"
   ]
  },
  {
   "cell_type": "code",
   "execution_count": 37,
   "metadata": {},
   "outputs": [
    {
     "data": {
      "text/plain": [
       "<matplotlib.axes._subplots.AxesSubplot at 0x7f82ba860b90>"
      ]
     },
     "execution_count": 37,
     "metadata": {},
     "output_type": "execute_result"
    },
    {
     "data": {
      "image/png": "[encoded data removed]",
      "text/plain": [
       "<Figure size 432x288 with 1 Axes>"
      ]
     },
     "metadata": {
      "needs_background": "light"
     },
     "output_type": "display_data"
    }
   ],
   "source": [
    "losses[['loss','val_loss']].plot()"
   ]
  },
  {
   "cell_type": "code",
   "execution_count": 38,
   "metadata": {},
   "outputs": [
    {
     "name": "stdout",
     "output_type": "stream",
     "text": [
      "400/400 [==============================] - 1s 3ms/sample - loss: 0.1392 - my_top_k: 0.8525\n"
     ]
    }
   ],
   "source": [
    "score = model.evaluate(X_test, y_test, batch_size=1, verbose=1)"
   ]
  },
  {
   "cell_type": "code",
   "execution_count": 39,
   "metadata": {},
   "outputs": [],
   "source": [
    "z = model.predict(X_test)"
   ]
  },
  {
   "cell_type": "code",
   "execution_count": 40,
   "metadata": {},
   "outputs": [],
   "source": [
    "# Analysis of a string"
   ]
  },
  {
   "cell_type": "code",
   "execution_count": 41,
   "metadata": {},
   "outputs": [
    {
     "name": "stdout",
     "output_type": "stream",
     "text": [
      "['B', 'E', 'P', 'S', 'T', 'V', 'X']\n",
      "[[0.   0.   0.41 0.   0.58 0.01 0.  ]\n",
      " [0.   0.   0.   0.74 0.   0.   0.26]\n",
      " [0.   0.   0.   0.   0.   0.   1.  ]\n",
      " [0.   0.   0.   0.   0.71 0.29 0.  ]\n",
      " [0.   0.   1.   0.   0.   0.   0.  ]\n",
      " [0.   0.   0.   0.   0.   0.   1.  ]\n",
      " [0.   0.   0.   0.   0.72 0.28 0.  ]\n",
      " [0.   0.   0.   0.   0.68 0.32 0.  ]\n",
      " [0.   0.   0.   0.   0.68 0.32 0.  ]\n",
      " [0.   0.   0.   0.   0.67 0.33 0.  ]\n",
      " [0.   0.   0.93 0.   0.   0.07 0.  ]\n",
      " [0.   0.   0.   0.05 0.   0.   0.95]\n",
      " [0.   0.   0.   0.   0.65 0.35 0.  ]\n",
      " [0.   0.   0.   0.   0.58 0.42 0.  ]\n",
      " [0.   0.   0.   0.   0.54 0.46 0.  ]\n",
      " [0.   0.   0.62 0.   0.   0.38 0.  ]\n",
      " [0.   1.   0.   0.   0.   0.   0.  ]\n",
      " [0.15 0.15 0.14 0.17 0.17 0.09 0.13]\n",
      " [0.14 0.13 0.17 0.13 0.18 0.12 0.13]\n",
      " [0.14 0.14 0.15 0.12 0.18 0.14 0.13]]\n"
     ]
    }
   ],
   "source": [
    "print(list(chars))\n",
    "print((z.round(decimals=2)[0]))"
   ]
  },
  {
   "cell_type": "code",
   "execution_count": 61,
   "metadata": {},
   "outputs": [
    {
     "data": {
      "text/plain": [
       "['BTXXVPXTTTVPXTTVVE']"
      ]
     },
     "execution_count": 61,
     "metadata": {},
     "output_type": "execute_result"
    }
   ],
   "source": [
    "temp(X_test[0])"
   ]
  },
  {
   "cell_type": "code",
   "execution_count": 62,
   "metadata": {},
   "outputs": [
    {
     "data": {
      "text/plain": [
       "array([[0, 0, 0, 0, 1, 0, 0],\n",
       "       [0, 0, 0, 0, 0, 0, 1],\n",
       "       [0, 0, 0, 0, 0, 0, 1],\n",
       "       [0, 0, 0, 0, 0, 1, 0],\n",
       "       [0, 0, 1, 0, 0, 0, 0],\n",
       "       [0, 0, 0, 0, 0, 0, 1],\n",
       "       [0, 0, 0, 0, 1, 0, 0],\n",
       "       [0, 0, 0, 0, 1, 0, 0],\n",
       "       [0, 0, 0, 0, 1, 0, 0],\n",
       "       [0, 0, 0, 0, 0, 1, 0],\n",
       "       [0, 0, 1, 0, 0, 0, 0],\n",
       "       [0, 0, 0, 0, 0, 0, 1],\n",
       "       [0, 0, 0, 0, 1, 0, 0],\n",
       "       [0, 0, 0, 0, 1, 0, 0],\n",
       "       [0, 0, 0, 0, 0, 1, 0],\n",
       "       [0, 0, 0, 0, 0, 1, 0],\n",
       "       [0, 1, 0, 0, 0, 0, 0],\n",
       "       [0, 0, 0, 0, 0, 0, 0],\n",
       "       [0, 0, 0, 0, 0, 0, 0],\n",
       "       [0, 0, 0, 0, 0, 0, 0]], dtype=int32)"
      ]
     },
     "execution_count": 62,
     "metadata": {},
     "output_type": "execute_result"
    }
   ],
   "source": [
    "y_test[0]"
   ]
  },
  {
   "cell_type": "code",
   "execution_count": 63,
   "metadata": {},
   "outputs": [],
   "source": [
    "def top_2_accuracy(y_test,y_pred):\n",
    "    i = 0\n",
    "    k = y_test.shape[0]*y_test.shape[1]\n",
    "    correct = 0\n",
    "    test = np.reshape(y_test,(y_test.shape[0]*y_test.shape[1],y_test.shape[2]))\n",
    "    pred = np.reshape(y_pred,(y_pred.shape[0]*y_pred.shape[1],y_pred.shape[2]))\n",
    "    while(i<len(test)):\n",
    "        \n",
    "        if (test[i] == np.array((0, 1, 0, 0, 0, 0, 0))).all(): \n",
    "            if (test[i].argmax() == pred[i].argsort()[-1]) | (test[i].argmax() == pred[i].argsort()[-2]):\n",
    "                correct += 1\n",
    "            k -= (20%i)\n",
    "            i = i + (20%i)\n",
    "            continue\n",
    "        \n",
    "        if (test[i].argmax() == pred[i].argsort()[-1]) | (test[i].argmax() == pred[i].argsort()[-2]):\n",
    "            correct += 1\n",
    "        i += 1\n",
    "    print(correct)\n",
    "    print(k)\n",
    "    print(correct/k)        "
   ]
  },
  {
   "cell_type": "code",
   "execution_count": 64,
   "metadata": {},
   "outputs": [
    {
     "name": "stdout",
     "output_type": "stream",
     "text": [
      "2627\n",
      "2676\n",
      "0.9816890881913304\n"
     ]
    }
   ],
   "source": [
    "top_2_accuracy(y_test,z)"
   ]
  },
  {
   "cell_type": "code",
   "execution_count": null,
   "metadata": {},
   "outputs": [],
   "source": []
  },
  {
   "cell_type": "code",
   "execution_count": 65,
   "metadata": {},
   "outputs": [],
   "source": [
    "import matplotlib.pyplot as plt\n",
    "%matplotlib inline"
   ]
  },
  {
   "cell_type": "code",
   "execution_count": 66,
   "metadata": {},
   "outputs": [],
   "source": [
    "# Loss function graph over epochs\n",
    "# Binary Cross-Entropy Loss"
   ]
  },
  {
   "cell_type": "code",
   "execution_count": 68,
   "metadata": {},
   "outputs": [
    {
     "data": {
      "text/plain": [
       "[<matplotlib.lines.Line2D at 0x7f82bb72db10>]"
      ]
     },
     "execution_count": 68,
     "metadata": {},
     "output_type": "execute_result"
    },
    {
     "data": {
      "image/png": "[encoded data removed]",
      "text/plain": [
       "<Figure size 432x288 with 1 Axes>"
      ]
     },
     "metadata": {
      "needs_background": "light"
     },
     "output_type": "display_data"
    }
   ],
   "source": [
    "plt.plot(list(range(25)),model.history.history['loss'])"
   ]
  },
  {
   "cell_type": "code",
   "execution_count": null,
   "metadata": {},
   "outputs": [],
   "source": [
    "# Retrieving back the hidden unit activation paterns"
   ]
  },
  {
   "cell_type": "code",
   "execution_count": 51,
   "metadata": {},
   "outputs": [],
   "source": [
    "import tensorflow.keras.backend as K"
   ]
  },
  {
   "cell_type": "code",
   "execution_count": 52,
   "metadata": {},
   "outputs": [],
   "source": [
    "lstm = model.layers[0]\n",
    "\n",
    "# Get output from intermediate layer to visualize activations\n",
    "attn_func = K.function(inputs = [model.get_input_at(0), K.learning_phase()],\n",
    "           outputs = [lstm.output])"
   ]
  },
  {
   "cell_type": "code",
   "execution_count": 53,
   "metadata": {},
   "outputs": [
    {
     "data": {
      "text/plain": [
       "<tf.Tensor 'lstm/transpose_1:0' shape=(?, 20, 15) dtype=float32>"
      ]
     },
     "execution_count": 53,
     "metadata": {},
     "output_type": "execute_result"
    }
   ],
   "source": [
    "attn_func.outputs[0]"
   ]
  },
  {
   "cell_type": "code",
   "execution_count": 54,
   "metadata": {},
   "outputs": [],
   "source": [
    "h = attn_func(X_test)[0]"
   ]
  },
  {
   "cell_type": "code",
   "execution_count": 55,
   "metadata": {},
   "outputs": [
    {
     "data": {
      "text/plain": [
       "400"
      ]
     },
     "execution_count": 55,
     "metadata": {},
     "output_type": "execute_result"
    }
   ],
   "source": [
    "len(h)"
   ]
  },
  {
   "cell_type": "code",
   "execution_count": 56,
   "metadata": {},
   "outputs": [],
   "source": [
    "points = (h.round(decimals=2))"
   ]
  },
  {
   "cell_type": "code",
   "execution_count": 57,
   "metadata": {},
   "outputs": [
    {
     "data": {
      "text/plain": [
       "(400, 20, 15)"
      ]
     },
     "execution_count": 57,
     "metadata": {},
     "output_type": "execute_result"
    }
   ],
   "source": [
    "points.shape"
   ]
  },
  {
   "cell_type": "code",
   "execution_count": 58,
   "metadata": {},
   "outputs": [],
   "source": [
    "# Hierarchical Clustering using Scipy"
   ]
  },
  {
   "cell_type": "code",
   "execution_count": 74,
   "metadata": {},
   "outputs": [],
   "source": [
    "import scipy.cluster.hierarchy as sch\n",
    "from sklearn.cluster import AgglomerativeClustering\n",
    "import sklearn.metrics as sm"
   ]
  },
  {
   "cell_type": "code",
   "execution_count": 75,
   "metadata": {},
   "outputs": [],
   "source": [
    "# Dendrogram"
   ]
  },
  {
   "cell_type": "code",
   "execution_count": 78,
   "metadata": {},
   "outputs": [
    {
     "data": {
      "text/plain": [
       "['BTXXVPXTTTVPXTTVVE']"
      ]
     },
     "execution_count": 78,
     "metadata": {},
     "output_type": "execute_result"
    }
   ],
   "source": [
    "temp(X_test[0])"
   ]
  },
  {
   "cell_type": "code",
   "execution_count": 79,
   "metadata": {},
   "outputs": [
    {
     "data": {
      "image/png": "[encoded data removed]",
      "text/plain": [
       "<Figure size 864x864 with 1 Axes>"
      ]
     },
     "metadata": {
      "needs_background": "light"
     },
     "output_type": "display_data"
    }
   ],
   "source": [
    "plt.figure(figsize=(12,12))\n",
    "dendrogram = sch.dendrogram(sch.linkage(points[0],method='ward'),orientation='right',labels=labels[:20])"
   ]
  },
  {
   "cell_type": "code",
   "execution_count": 74,
   "metadata": {},
   "outputs": [
    {
     "data": {
      "text/plain": [
       "array([[0.  , 0.  , 0.27],\n",
       "       [0.  , 0.58, 0.  ],\n",
       "       [0.  , 0.13, 0.  ],\n",
       "       [0.  , 1.64, 0.  ],\n",
       "       [0.26, 1.17, 1.17],\n",
       "       [0.5 , 0.24, 2.39],\n",
       "       [0.32, 0.55, 2.13],\n",
       "       [3.61, 0.  , 0.11],\n",
       "       [0.  , 1.88, 0.  ],\n",
       "       [0.43, 1.09, 1.49],\n",
       "       [0.5 , 0.28, 2.62],\n",
       "       [0.47, 0.54, 2.34],\n",
       "       [3.61, 0.  , 0.33],\n",
       "       [0.  , 1.88, 0.  ],\n",
       "       [0.43, 1.09, 1.5 ],\n",
       "       [0.5 , 0.28, 2.62],\n",
       "       [3.55, 0.  , 0.18],\n",
       "       [0.  , 1.88, 0.  ],\n",
       "       [0.  , 0.  , 0.  ],\n",
       "       [0.05, 0.02, 0.  ]], dtype=float32)"
      ]
     },
     "execution_count": 74,
     "metadata": {},
     "output_type": "execute_result"
    }
   ],
   "source": [
    "points[0]"
   ]
  },
  {
   "cell_type": "code",
   "execution_count": null,
   "metadata": {},
   "outputs": [],
   "source": [
    "labels[40:60]"
   ]
  },
  {
   "cell_type": "code",
   "execution_count": null,
   "metadata": {},
   "outputs": [],
   "source": [
    "temp(X_test[2])"
   ]
  },
  {
   "cell_type": "code",
   "execution_count": null,
   "metadata": {},
   "outputs": [],
   "source": [
    "points[2]"
   ]
  },
  {
   "cell_type": "code",
   "execution_count": 90,
   "metadata": {},
   "outputs": [
    {
     "data": {
      "text/plain": [
       "'BEPSTVX'"
      ]
     },
     "execution_count": 90,
     "metadata": {},
     "output_type": "execute_result"
    }
   ],
   "source": [
    "chars"
   ]
  },
  {
   "cell_type": "code",
   "execution_count": null,
   "metadata": {},
   "outputs": [],
   "source": [
    "# Saving Model\n",
    "from tensorflow.keras.models import save_model,load_model\n",
    "model.save(\"reber.h5\")"
   ]
  },
  {
   "cell_type": "code",
   "execution_count": null,
   "metadata": {},
   "outputs": [],
   "source": [
    "# Load Model\n",
    "model = load_model(\"reber.h5\")\n",
    "a = model.predict(X_test)\n",
    "(a.round(decimals=3)[3])"
   ]
  },
  {
   "cell_type": "code",
   "execution_count": null,
   "metadata": {},
   "outputs": [],
   "source": [
    "# Preprocessor functions to format data to give as input to SCH Dendrogram function for Hierarchical Clustering"
   ]
  },
  {
   "cell_type": "code",
   "execution_count": 43,
   "metadata": {},
   "outputs": [],
   "source": [
    "def seq2char(sequence):\n",
    "    \n",
    "    if sequence.any():\n",
    "        return chars[sequence.argmax()]\n",
    "    else:\n",
    "        return ''    "
   ]
  },
  {
   "cell_type": "code",
   "execution_count": 44,
   "metadata": {},
   "outputs": [],
   "source": [
    "def word(X):\n",
    "    l = X.shape[0]\n",
    "    result = []\n",
    "    \n",
    "    for i in range(l):\n",
    "        temp = ''\n",
    "        for sequence in X[i]:\n",
    "            temp = temp + seq2char(sequence)\n",
    "        result.append(temp)\n",
    "        \n",
    "    return result"
   ]
  },
  {
   "cell_type": "code",
   "execution_count": 45,
   "metadata": {},
   "outputs": [],
   "source": [
    "def temp(X):\n",
    "    X = np.expand_dims(X,axis=0)\n",
    "    l = X.shape[0]\n",
    "    result = []\n",
    "    \n",
    "    for i in range(l):\n",
    "        temp = ''\n",
    "        for sequence in X[i]:\n",
    "            temp = temp + seq2char(sequence)\n",
    "        result.append(temp)\n",
    "        \n",
    "    return result"
   ]
  },
  {
   "cell_type": "code",
   "execution_count": 46,
   "metadata": {},
   "outputs": [],
   "source": [
    "word_list = word(X_test)"
   ]
  },
  {
   "cell_type": "code",
   "execution_count": 47,
   "metadata": {},
   "outputs": [],
   "source": [
    "def func(word):\n",
    "    label_list = []\n",
    "    k=0\n",
    "\n",
    "    for i in range(1,21):\n",
    "        if i <= len(word):\n",
    "            label_list.append(word[:i])\n",
    "        else:\n",
    "            label_list.append('NULL')\n",
    "        \n",
    "        k = k + 1\n",
    "        \n",
    "    return label_list"
   ]
  },
  {
   "cell_type": "code",
   "execution_count": 69,
   "metadata": {},
   "outputs": [],
   "source": [
    "points_temp = points.reshape(points.shape[0]*points.shape[1],points.shape[2])"
   ]
  },
  {
   "cell_type": "code",
   "execution_count": 70,
   "metadata": {},
   "outputs": [],
   "source": [
    "X_test_temp = X_test.reshape(X_test.shape[0]*X_test.shape[1],X_test.shape[2])"
   ]
  },
  {
   "cell_type": "code",
   "execution_count": 49,
   "metadata": {},
   "outputs": [],
   "source": [
    "def label(X):\n",
    "    result = []\n",
    "    \n",
    "    for i in range(0,len(X),maxsize):\n",
    "        word_no = i // maxsize\n",
    "        \n",
    "        result.extend(func(word_list[word_no]))\n",
    "        \n",
    "    return result  "
   ]
  },
  {
   "cell_type": "code",
   "execution_count": 71,
   "metadata": {},
   "outputs": [],
   "source": [
    "labels = label(X_test_temp)"
   ]
  },
  {
   "cell_type": "code",
   "execution_count": 72,
   "metadata": {},
   "outputs": [
    {
     "data": {
      "text/plain": [
       "8000"
      ]
     },
     "execution_count": 72,
     "metadata": {},
     "output_type": "execute_result"
    }
   ],
   "source": [
    "len(labels)"
   ]
  },
  {
   "cell_type": "code",
   "execution_count": 87,
   "metadata": {},
   "outputs": [
    {
     "data": {
      "text/plain": [
       "['B',\n",
       " 'BP',\n",
       " 'BPT',\n",
       " 'BPTT',\n",
       " 'BPTTT',\n",
       " 'BPTTTT',\n",
       " 'BPTTTTT',\n",
       " 'BPTTTTTV',\n",
       " 'BPTTTTTVP',\n",
       " 'BPTTTTTVPX',\n",
       " 'BPTTTTTVPXV',\n",
       " 'BPTTTTTVPXVP',\n",
       " 'BPTTTTTVPXVPX',\n",
       " 'BPTTTTTVPXVPXT',\n",
       " 'BPTTTTTVPXVPXTV',\n",
       " 'BPTTTTTVPXVPXTVV',\n",
       " 'BPTTTTTVPXVPXTVVE',\n",
       " 'NULL',\n",
       " 'NULL',\n",
       " 'NULL']"
      ]
     },
     "execution_count": 87,
     "metadata": {},
     "output_type": "execute_result"
    }
   ],
   "source": [
    "func(word_list[0])"
   ]
  },
  {
   "cell_type": "code",
   "execution_count": 77,
   "metadata": {},
   "outputs": [],
   "source": [
    "y_test_temp = y_test.reshape(y_test.shape[0]*y_test.shape[1],y_test.shape[2])"
   ]
  },
  {
   "cell_type": "code",
   "execution_count": 78,
   "metadata": {},
   "outputs": [],
   "source": [
    "z_temp = z.reshape(z.shape[0]*z.shape[1],z.shape[2])"
   ]
  }
 ],
 "metadata": {
  "kernelspec": {
   "display_name": "Python 3",
   "language": "python",
   "name": "python3"
  },
  "language_info": {
   "codemirror_mode": {
    "name": "ipython",
    "version": 3
   },
   "file_extension": ".py",
   "mimetype": "text/x-python",
   "name": "python",
   "nbconvert_exporter": "python",
   "pygments_lexer": "ipython3",
   "version": "3.8.8"
  }
 },
 "nbformat": 4,
 "nbformat_minor": 4
}
