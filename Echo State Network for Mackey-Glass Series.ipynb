{
 "cells": [
  {
   "cell_type": "code",
   "execution_count": 1,
   "metadata": {},
   "outputs": [],
   "source": [
    "# Implementing Echo State Network for Mackey-Glass Series"
   ]
  },
  {
   "cell_type": "code",
   "execution_count": 2,
   "metadata": {},
   "outputs": [],
   "source": [
    "# Importing required modules"
   ]
  },
  {
   "cell_type": "code",
   "execution_count": 3,
   "metadata": {},
   "outputs": [],
   "source": [
    "%matplotlib inline"
   ]
  },
  {
   "cell_type": "code",
   "execution_count": 4,
   "metadata": {},
   "outputs": [],
   "source": [
    "import numpy as np\n",
    "import pandas as pd\n",
    "import matplotlib.pyplot as plt\n",
    "from scipy import linalg\n",
    "from ipywidgets import *\n",
    "from IPython.display import *"
   ]
  },
  {
   "cell_type": "code",
   "execution_count": 5,
   "metadata": {},
   "outputs": [],
   "source": [
    "# Setting random seed"
   ]
  },
  {
   "cell_type": "code",
   "execution_count": 6,
   "metadata": {},
   "outputs": [],
   "source": [
    "def set_seed(seed=None):\n",
    "    \"\"\"Making the seed (for random values) variable if None\"\"\"\n",
    "\n",
    "    if seed is None:\n",
    "        import time\n",
    "        seed = int((time.time()*10**6) % 4294967295)\n",
    "        print(seed)\n",
    "    try:\n",
    "        np.random.seed(seed)\n",
    "        print(\"Seed used for random values:\", seed)\n",
    "    except:\n",
    "        print(\"!!! WARNING !!!: Seed was not set correctly.\")\n",
    "    return seed"
   ]
  },
  {
   "cell_type": "code",
   "execution_count": 7,
   "metadata": {},
   "outputs": [],
   "source": [
    "# Creating Network Class"
   ]
  },
  {
   "cell_type": "code",
   "execution_count": 8,
   "metadata": {},
   "outputs": [
    {
     "name": "stdout",
     "output_type": "stream",
     "text": [
      "3607131467\n",
      "Seed used for random values: 3607131467\n"
     ]
    }
   ],
   "source": [
    "class Network(object):\n",
    "\n",
    "    def __init__(self, trainLen=2000, testLen=2000, initLen=100) :\n",
    "        self.initLen = initLen\n",
    "        self.trainLen = trainLen\n",
    "        self.testLen = testLen\n",
    "        self.data = np.loadtxt(\"MackeyGlass_t17.txt\")\n",
    "        self.inSize = self.outSize = 1 #Input/Output dimensions\n",
    "        self.resSize = 300 #Reservoir size (prediction)\n",
    "        #self.resSize = 1000 #Reservoir size (generation)\n",
    "        self.a = 0.3 #Leak rate alpha\n",
    "        self.spectral_radius = 1.25 #Spectral raidus\n",
    "        self.input_scaling = 1. #Input scaling\n",
    "        self.reg =  1e-8 #None #Regularization factor - if None,\n",
    "        #we'd use pseudo-inverse rather than ridge regression\n",
    "\n",
    "        self.mode = 'prediction'\n",
    "        #self.mode = 'generative'\n",
    "        \n",
    "        self.mse = 0\n",
    "\n",
    "        #Change the seed, reservoir performances should be averaged accross\n",
    "        #at least 20 random instances (with the same set of parameters)\n",
    "        seed = None #42\n",
    "\n",
    "        set_seed(seed)\n",
    "        \n",
    "nw = Network()"
   ]
  },
  {
   "cell_type": "code",
   "execution_count": 9,
   "metadata": {},
   "outputs": [],
   "source": [
    "# Plotting data sample"
   ]
  },
  {
   "cell_type": "code",
   "execution_count": 10,
   "metadata": {},
   "outputs": [
    {
     "data": {
      "application/vnd.jupyter.widget-view+json": {
       "model_id": "09980793e128458b8ca8a5f2b58d4e50",
       "version_major": 2,
       "version_minor": 0
      },
      "text/plain": [
       "interactive(children=(FloatSlider(value=2000.0, continuous_update=False, description='time steps', max=10000.0…"
      ]
     },
     "metadata": {},
     "output_type": "display_data"
    },
    {
     "data": {
      "text/plain": [
       "<function __main__.plot_figure(f)>"
      ]
     },
     "execution_count": 10,
     "metadata": {},
     "output_type": "execute_result"
    }
   ],
   "source": [
    "def plot_figure(f) :\n",
    "    plt.figure(0).clear()\n",
    "    plt.figure(figsize=(10,7))\n",
    "    plt.plot(nw.data[0:int(f)])\n",
    "    plt.ylim([-1.1,1.1])\n",
    "    plt.title('A sample of input data')\n",
    "    \n",
    "interact(plot_figure, f=FloatSlider(value=2000,min=1000,max=10000,step=1000,continuous_update=False,description='time steps'))"
   ]
  },
  {
   "cell_type": "code",
   "execution_count": 11,
   "metadata": {},
   "outputs": [],
   "source": [
    "# Generating Win,W randomly and then generating X,Ytarget "
   ]
  },
  {
   "cell_type": "code",
   "execution_count": 12,
   "metadata": {},
   "outputs": [],
   "source": [
    "from scipy.sparse import rand"
   ]
  },
  {
   "cell_type": "code",
   "execution_count": 13,
   "metadata": {},
   "outputs": [],
   "source": [
    "def initialization(nw) :\n",
    "\n",
    "    #Weights\n",
    "    nw.Win = np.array(rand(nw.resSize,1+nw.inSize, density=0.25, format=\"csr\", random_state=42).todense())\n",
    "    nw.W = np.array(rand(nw.resSize,nw.resSize, density=0.25, format=\"csr\", random_state=42).todense())\n",
    "    \n",
    "    #Matrices\n",
    "    #Allocated memory for the design (collected states) matrix\n",
    "    nw.X = np.zeros((1+nw.inSize+nw.resSize,nw.trainLen-nw.initLen))\n",
    "    #Set the corresponding target matrix directly\n",
    "    nw.Ytarget = nw.data[None,nw.initLen+1:nw.trainLen+1]\n",
    "\n",
    "    #Run the reservoir with the data and collect X\n",
    "    nw.x = np.zeros((nw.resSize,1))  \n",
    "    \n",
    "    return(nw)"
   ]
  },
  {
   "cell_type": "markdown",
   "metadata": {},
   "source": [
    "We compute <b style=\"color:#ffcc00\">W</b> (reservoir weights) spectral radius (i.e., the biggest of the absolute eigenvalues). This number will then be used to scale the weights : the biggest the spectral radius is, the easiest it will be for the system to remember longer inputs."
   ]
  },
  {
   "cell_type": "code",
   "execution_count": 14,
   "metadata": {},
   "outputs": [],
   "source": [
    "# Computing spectral radius(biggest of the absolute eigen values of W matrix) and then scaling W matrix using that"
   ]
  },
  {
   "cell_type": "code",
   "execution_count": 15,
   "metadata": {},
   "outputs": [],
   "source": [
    "def compute_spectral_radius(nw):\n",
    "    print('Computing spectral radius...',end=\" \")\n",
    "    rhoW = max(abs(linalg.eig(nw.W)[0]))\n",
    "    print('Done.')\n",
    "    nw.W *= nw.spectral_radius / rhoW\n",
    "    \n",
    "    return(nw)"
   ]
  },
  {
   "cell_type": "code",
   "execution_count": 16,
   "metadata": {},
   "outputs": [],
   "source": [
    "# Learning phase"
   ]
  },
  {
   "cell_type": "code",
   "execution_count": 17,
   "metadata": {},
   "outputs": [],
   "source": [
    "# 𝑥𝑛 = (1−𝛼)𝑥𝑛 − 1 × 𝛼tanh(𝑊𝑖𝑛.𝑢𝑛 − 1) + 𝑊.𝑥𝑛−1"
   ]
  },
  {
   "cell_type": "code",
   "execution_count": 18,
   "metadata": {},
   "outputs": [],
   "source": [
    "def learning_phase(nw) :\n",
    "    for t in range(nw.trainLen):\n",
    "        #Input data\n",
    "        nw.u = nw.data[t]\n",
    "        nw.x = (1-nw.a)*nw.x + nw.a*np.tanh( np.dot(nw.Win, np.vstack((1,nw.u)) ) + np.dot( nw.W, nw.x ) )\n",
    "        #After the initialization, we start modifying X\n",
    "        if t >= nw.initLen:\n",
    "            nw.X[:,t-nw.initLen] = np.vstack((1,nw.u,nw.x))[:,0]\n",
    "            \n",
    "    return(nw)"
   ]
  },
  {
   "cell_type": "code",
   "execution_count": 19,
   "metadata": {},
   "outputs": [],
   "source": [
    "# Training output weights using ridge regression\n",
    "# 𝑊𝑜𝑢𝑡 = (𝑌𝑡.𝑋𝑇) . (𝑋.𝑋𝑇+𝑟𝑒𝑔.𝐼)^-1"
   ]
  },
  {
   "cell_type": "code",
   "execution_count": 20,
   "metadata": {},
   "outputs": [],
   "source": [
    "def train_output(nw) :\n",
    "    nw.X_T = nw.X.T\n",
    "    if nw.reg is not None:\n",
    "        # Ridge regression (linear regression with regularization)\n",
    "        nw.Wout = np.dot(np.dot(nw.Ytarget,nw.X_T), linalg.inv(np.dot(nw.X,nw.X_T) + \\\n",
    "            nw.reg*np.eye(1+nw.inSize+nw.resSize) ) )\n",
    "    else:\n",
    "        # Pseudo-inverse\n",
    "        nw.Wout = np.dot(nw.Yt, linalg.pinv(nw.X) )\n",
    "        \n",
    "    return(nw)"
   ]
  },
  {
   "cell_type": "code",
   "execution_count": 21,
   "metadata": {},
   "outputs": [],
   "source": [
    "# Testing in a particular mode"
   ]
  },
  {
   "cell_type": "code",
   "execution_count": 22,
   "metadata": {},
   "outputs": [],
   "source": [
    "def test(nw) :\n",
    "    #Run the trained ESN in a generative mode. no need to initialize here, \n",
    "    #because x is initialized with training data and we continue from there.\n",
    "    nw.Y = np.zeros((nw.outSize,nw.testLen))\n",
    "    nw.u = nw.data[nw.trainLen]\n",
    "    for t in range(nw.testLen):\n",
    "        nw.x = (1-nw.a)*nw.x + nw.a*np.tanh( np.dot(nw.Win, np.vstack((1,nw.u)) ) + np.dot(nw.W,nw.x ) )\n",
    "        nw.y = np.dot(nw.Wout, np.vstack((1,nw.u,nw.x)) )\n",
    "        nw.Y[:,t] = nw.y\n",
    "        if nw.mode == 'generative':\n",
    "            #Generative mode:\n",
    "            nw.u = nw.y\n",
    "        elif nw.mode == 'prediction':\n",
    "            #Predictive mode:\n",
    "            nw.u = nw.data[nw.trainLen+t+1] \n",
    "        else:\n",
    "            raise(Exception, \"ERROR: 'mode' was not set correctly.\")\n",
    "    \n",
    "    return(nw)"
   ]
  },
  {
   "cell_type": "code",
   "execution_count": 23,
   "metadata": {},
   "outputs": [],
   "source": [
    "def compute_error(nw) :\n",
    "    # Computing MSE for the first errorLen iterations\n",
    "    errorLen = 500\n",
    "    nw.mse = sum( np.square( nw.data[nw.trainLen+1:nw.trainLen+errorLen+1] - nw.Y[0,0:errorLen] ) ) / errorLen\n",
    "    print('MSE = ' + str( nw.mse ))\n",
    "    \n",
    "    return(nw)"
   ]
  },
  {
   "cell_type": "code",
   "execution_count": 24,
   "metadata": {},
   "outputs": [],
   "source": [
    "def compute_network(nw) :\n",
    "    nw = initialization(nw)\n",
    "    nw = compute_spectral_radius(nw)\n",
    "    nw = learning_phase(nw)\n",
    "    nw = train_output(nw)\n",
    "    nw = test(nw)  \n",
    "    nw = compute_error(nw)\n",
    "    return(nw)"
   ]
  },
  {
   "cell_type": "code",
   "execution_count": 25,
   "metadata": {},
   "outputs": [],
   "source": [
    "# Definition of the network parameters"
   ]
  },
  {
   "cell_type": "code",
   "execution_count": 34,
   "metadata": {},
   "outputs": [
    {
     "name": "stdout",
     "output_type": "stream",
     "text": [
      "InitLen: 100 TrainLen: 2000 TestLen: 2000\n",
      "ResSize: 400 Spectral Radius: 1.25 Leak Rate: 1.0\n",
      "Computing spectral radius... Done.\n",
      "MSE = 1.4488097770663885e-06\n"
     ]
    }
   ],
   "source": [
    "select_mode = ToggleButtons(description='Mode:',\n",
    "    options=['prediction', 'generative'])\n",
    "var1 = FloatSlider(value=400, min=0, max=1000, step=1, description='resSize')\n",
    "var2 = FloatSlider(value=100, min=0, max=2000, step=1, description='initLen')\n",
    "var3 = FloatSlider(value=2000, min=0, max=5000, step=1, description='trainLen')\n",
    "var4 = FloatSlider(value=2000, min=0, max=8000, step=500, description='testLen')\n",
    "var5 = FloatSlider(value=1.25, min=0, max=10, step=0.01, description='spectral radius')\n",
    "var6 = FloatSlider(value=0.3, min=0, max=1, step=0.01, description='leak rate')\n",
    "valid = Button(description='Validate')\n",
    "\n",
    "def record_values(_) :\n",
    "    clear_output()\n",
    "    nw.mode=select_mode.value\n",
    "    nw.resSize=int(var1.value)\n",
    "    nw.initLen=int(var2.value)\n",
    "    nw.trainLen=int(var3.value)\n",
    "    nw.testLen=int(var4.value)\n",
    "    nw.spectral_radius=float(var5.value)\n",
    "    nw.a=float(var6.value)\n",
    "    print(\"InitLen:\", nw.initLen, \"TrainLen:\", nw.trainLen, \"TestLen:\", nw.testLen) \n",
    "    print(\"ResSize:\", nw.resSize, \"Spectral Radius:\", nw.spectral_radius, \"Leak Rate:\", nw.a)\n",
    "    compute_network(nw)\n",
    "    return(nw)\n",
    "\n",
    "\n",
    "display(select_mode)\n",
    "display(var1)\n",
    "display(var2)\n",
    "display(var3)\n",
    "display(var4)\n",
    "display(var5)\n",
    "display(var6)\n",
    "display(valid)\n",
    "\n",
    "valid.on_click(record_values)   "
   ]
  },
  {
   "cell_type": "code",
   "execution_count": null,
   "metadata": {},
   "outputs": [],
   "source": [
    "# Graph 1: Comparison between expected and estimated outputs"
   ]
  },
  {
   "cell_type": "code",
   "execution_count": null,
   "metadata": {},
   "outputs": [],
   "source": [
    "var7 = FloatSlider(value=2000,min=10,max=10000,step=10,description='time steps')\n",
    "valid = Button(description='Validate')\n",
    "        \n",
    "def trace_graph1(_) :\n",
    "    clear_output()\n",
    "    f=int(var7.value)\n",
    "    plt.figure(1).clear()\n",
    "    plt.figure(figsize=(12,7))\n",
    "    plt.plot( nw.data[nw.trainLen+1:nw.trainLen+f+1], 'g' )\n",
    "    plt.plot( nw.Y.T[0:f], 'b' )\n",
    "    plt.title('Target and generated signals $y(n)$ starting at $n=0$')\n",
    "    if nw.mode == 'generative':\n",
    "        plt.legend(['Target signal', 'Free-running predicted signal'])\n",
    "    elif nw.mode == 'prediction':\n",
    "        plt.legend(['Target signal', 'Predicted signal'])\n",
    "    \n",
    "valid.on_click(trace_graph1)\n",
    "    \n",
    "display(var7)\n",
    "display(valid)"
   ]
  },
  {
   "cell_type": "code",
   "execution_count": null,
   "metadata": {},
   "outputs": [],
   "source": [
    "# Graph 2: Difference between expected and estimated outputs"
   ]
  },
  {
   "cell_type": "code",
   "execution_count": null,
   "metadata": {},
   "outputs": [],
   "source": [
    "var8 = FloatSlider(value=2000,min=10,max=nw.testLen,step=10,description='time steps')\n",
    "var9 = FloatSlider(value=0.2,min=0.1,max=10,step=0.001,description='amplitude')\n",
    "valid = Button(description='Validate')\n",
    "        \n",
    "def trace_graph2(_) :\n",
    "    clear_output()\n",
    "    f=int(var8.value)\n",
    "    amp=float(var9.value)\n",
    "    plt.figure(2).clear()\n",
    "    plt.figure(figsize=(12,7))\n",
    "    plt.ylim([-amp,amp])\n",
    "    plt.plot(nw.data[nw.trainLen+1:nw.trainLen+f+1]-nw.Y[0][0:f], 'g' )\n",
    "    print(nw.Y[0].shape)\n",
    "    plt.title('Target and predicted signal difference through time')\n",
    "    if nw.mode == 'generative':\n",
    "        plt.legend(['Target signal', 'Free-running predicted signal'])\n",
    "    elif nw.mode == 'prediction':\n",
    "        plt.legend(['Target signal', 'Predicted signal'])\n",
    "    \n",
    "valid.on_click(trace_graph2)\n",
    "    \n",
    "display(var8)\n",
    "display(var9)\n",
    "display(valid)"
   ]
  },
  {
   "cell_type": "code",
   "execution_count": null,
   "metadata": {},
   "outputs": [],
   "source": [
    "# Graph 3: Plotting neurons activations (total)"
   ]
  },
  {
   "cell_type": "code",
   "execution_count": null,
   "metadata": {},
   "outputs": [],
   "source": [
    "var10 = FloatSlider(value=2000,min=10,max=nw.trainLen-nw.initLen,step=10,description='time steps')\n",
    "var11 = FloatSlider(value=10, min=1, max=nw.resSize, step=1, description='number of neurons')\n",
    "valid = Button(description='Validate')\n",
    "\n",
    "def trace_graph3(_) :\n",
    "    clear_output()\n",
    "    f=int(var10.value)\n",
    "    nb=int(var11.value)\n",
    "    plt.figure(3).clear()\n",
    "    plt.figure(figsize=(10,7))\n",
    "    plt.plot( nw.X[2:2+nb,0:f].T )\n",
    "    print(nw.X.shape)\n",
    "    plt.ylim([-1.1,1.1])\n",
    "    plt.title('Activations $\\mathbf{x}(n)$ from Reservoir Neurons ID 0 to '+str(nb-1)+' for '+str(f)+' time steps')\n",
    "    \n",
    "valid.on_click(trace_graph3)\n",
    "    \n",
    "display(var10)\n",
    "display(var11)\n",
    "display(valid)"
   ]
  },
  {
   "cell_type": "code",
   "execution_count": null,
   "metadata": {},
   "outputs": [],
   "source": [
    "nw.X.shape"
   ]
  },
  {
   "cell_type": "code",
   "execution_count": null,
   "metadata": {},
   "outputs": [],
   "source": [
    "# Graph 4: Plotting single neuron activation"
   ]
  },
  {
   "cell_type": "code",
   "execution_count": null,
   "metadata": {},
   "outputs": [],
   "source": [
    "var12 = FloatSlider(value=2000,min=10,max=nw.trainLen-nw.initLen,step=10,description='time steps')\n",
    "var13 = FloatSlider(value=2, min=0, max=nw.resSize-1, step=1, description='neuron ID')\n",
    "valid = Button(description='Validate')\n",
    "\n",
    "def trace_graph4(_) :\n",
    "    clear_output()\n",
    "    f=int(var12.value)\n",
    "    num=int(var13.value)\n",
    "    plt.figure(4).clear()\n",
    "    plt.figure(figsize=(10,5))\n",
    "    plt.plot( nw.X[2+num,:f].T )\n",
    "    plt.ylim([-1.1,1.1])\n",
    "    plt.title('Activations $\\mathbf{x}(n)$ from Reservoir Neuron ID '+str(num)+' for '+str(f)+' time steps')\n",
    "\n",
    "valid.on_click(trace_graph4)\n",
    "\n",
    "display(var12)\n",
    "display(var13)\n",
    "display(valid)"
   ]
  },
  {
   "cell_type": "code",
   "execution_count": null,
   "metadata": {},
   "outputs": [],
   "source": [
    "# Graph 5: Output weights at the end of the simulation"
   ]
  },
  {
   "cell_type": "code",
   "execution_count": null,
   "metadata": {},
   "outputs": [],
   "source": [
    "valid = Button(description='Show')\n",
    "\n",
    "def trace_graph5(_) :\n",
    "    clear_output()\n",
    "    plt.figure(5).clear()\n",
    "    plt.figure(figsize=(12,7))\n",
    "    plt.bar(range(1+nw.inSize+nw.resSize), np.squeeze(nw.Wout.T) )\n",
    "    plt.title('Output weights $\\mathbf{W}^{out}$')\n",
    "\n",
    "valid.on_click(trace_graph5)\n",
    "\n",
    "display(valid)\n"
   ]
  },
  {
   "cell_type": "code",
   "execution_count": null,
   "metadata": {},
   "outputs": [],
   "source": [
    "nw.Wout.T.shape"
   ]
  },
  {
   "cell_type": "code",
   "execution_count": null,
   "metadata": {},
   "outputs": [],
   "source": []
  }
 ],
 "metadata": {
  "anaconda-cloud": {},
  "kernelspec": {
   "display_name": "Python 3",
   "language": "python",
   "name": "python3"
  },
  "language_info": {
   "codemirror_mode": {
    "name": "ipython",
    "version": 3
   },
   "file_extension": ".py",
   "mimetype": "text/x-python",
   "name": "python",
   "nbconvert_exporter": "python",
   "pygments_lexer": "ipython3",
   "version": "3.8.8"
  }
 },
 "nbformat": 4,
 "nbformat_minor": 1
}
